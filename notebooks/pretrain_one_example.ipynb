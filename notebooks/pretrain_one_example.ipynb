{
  "cells": [
    {
      "cell_type": "code",
      "execution_count": 1,
      "metadata": {},
      "outputs": [],
      "source": [
        "# Set pd display width\n",
        "import pandas as pd\n",
        "\n",
        "pd.set_option('display.width', 140)\n",
        "pd.set_option('display.max_colwidth', 140)"
      ]
    },
    {
      "cell_type": "markdown",
      "metadata": {
        "id": "s1YTiywIeN7n"
      },
      "source": [
        "## Load data"
      ]
    },
    {
      "cell_type": "code",
      "execution_count": 3,
      "metadata": {
        "colab": {
          "base_uri": "https://localhost:8080/",
          "height": 103,
          "referenced_widgets": [
            "e5af020c7f70470eaf1b9c5fd04cf0c7",
            "3ade6ab30b0b4a5eb9d3ee2bb93046f8",
            "97e19c91917145c68b3f2a39ba3dfbe3",
            "3c45ebf2bf5f44f880e281f26637735f",
            "c5989462b5d341aeb6a4581f868f2d33",
            "2d76a14b4c1a4851bed7eb8b0b3ca79f",
            "ee3c98d2c790447b8251c7f9ed8320a7",
            "856bb3ed88594d408500fd63a04dbed2",
            "ef9e57c4ab774b45ada8049907380088",
            "1d0c6f337a794765ba91f34197b6543b",
            "1320ebf47f6049a09c8d0c625b20c6da"
          ]
        },
        "id": "XGrzQK5deNC_",
        "outputId": "3a289363-2d48-4a82-a21b-0c51617f7182"
      },
      "outputs": [
        {
          "name": "stderr",
          "output_type": "stream",
          "text": [
            "Using custom data configuration default-a8ffa258544588d4\n",
            "Reusing dataset json (/Users/yenson/.cache/huggingface/datasets/json/default-a8ffa258544588d4/0.0.0/a3e658c4731e59120d44081ac10bf85dc7e1388126b92338344ce9661907f253)\n",
            "100%|██████████| 1/1 [00:00<00:00,  5.99it/s]\n"
          ]
        }
      ],
      "source": [
        "from datasets import load_dataset\n",
        "\n",
        "wiki = load_dataset(\"json\", \n",
        "                    data_files=\"../_data/wiki/20220301.en.1gb.json.gz\", \n",
        "                    field=\"train\")[\"train\"]"
      ]
    },
    {
      "cell_type": "code",
      "execution_count": 4,
      "metadata": {
        "colab": {
          "base_uri": "https://localhost:8080/",
          "height": 35
        },
        "id": "guUj9taSgQjx",
        "outputId": "71fceb8e-6027-479d-bb66-ac9c24fc3bbc"
      },
      "outputs": [
        {
          "name": "stdout",
          "output_type": "stream",
          "text": [
            "{'article_id': 14877816, 'text': 'Myeloid cell Nuclear Differentiation Antigen is a protein that in humans is encoded as MNDA gene.'}\n"
          ]
        }
      ],
      "source": [
        "example = wiki[0]\n",
        "print(example)"
      ]
    },
    {
      "cell_type": "code",
      "execution_count": 5,
      "metadata": {
        "colab": {
          "base_uri": "https://localhost:8080/",
          "height": 363
        },
        "id": "h5fKX1sLepVK",
        "outputId": "bf0582af-6f2c-46e0-fde9-fa9b91268921"
      },
      "outputs": [
        {
          "data": {
            "text/html": [
              "<div>\n",
              "<style scoped>\n",
              "    .dataframe tbody tr th:only-of-type {\n",
              "        vertical-align: middle;\n",
              "    }\n",
              "\n",
              "    .dataframe tbody tr th {\n",
              "        vertical-align: top;\n",
              "    }\n",
              "\n",
              "    .dataframe thead th {\n",
              "        text-align: right;\n",
              "    }\n",
              "</style>\n",
              "<table border=\"1\" class=\"dataframe\">\n",
              "  <thead>\n",
              "    <tr style=\"text-align: right;\">\n",
              "      <th></th>\n",
              "      <th>article_id</th>\n",
              "      <th>text</th>\n",
              "    </tr>\n",
              "  </thead>\n",
              "  <tbody>\n",
              "    <tr>\n",
              "      <th>0</th>\n",
              "      <td>14877816</td>\n",
              "      <td>Myeloid cell Nuclear Differentiation Antigen is a protein that in humans is encoded as MNDA gene.</td>\n",
              "    </tr>\n",
              "    <tr>\n",
              "      <th>1</th>\n",
              "      <td>14877816</td>\n",
              "      <td>The myeloid cell nuclear differentiation antigen (MNDA) is detected only in nuclei of cells of the granulocyte-monocyte lineage.</td>\n",
              "    </tr>\n",
              "    <tr>\n",
              "      <th>2</th>\n",
              "      <td>14877816</td>\n",
              "      <td>A 200-amino acid region of human MNDA is strikingly similar to a region in the proteins encoded by a family of interferon-inducible mous...</td>\n",
              "    </tr>\n",
              "    <tr>\n",
              "      <th>3</th>\n",
              "      <td>14877816</td>\n",
              "      <td>The 1.8-kb MNDA mRNA, which contains an interferon-stimulated response element in the 5' UTR, was significantly upregulated in human mon...</td>\n",
              "    </tr>\n",
              "    <tr>\n",
              "      <th>4</th>\n",
              "      <td>14877816</td>\n",
              "      <td>MNDA is located within 2,200 kb of FCER1A, APCS, CRP, and SPTA1.</td>\n",
              "    </tr>\n",
              "    <tr>\n",
              "      <th>5</th>\n",
              "      <td>14877816</td>\n",
              "      <td>In its pattern of expression and/or regulation, MNDA resembles IFI16, suggesting that these genes participate in blood cell-specific res...</td>\n",
              "    </tr>\n",
              "    <tr>\n",
              "      <th>6</th>\n",
              "      <td>4845938</td>\n",
              "      <td>\"Boris the Spider\" is a song written by the Who's bass guitarist, John Entwistle.</td>\n",
              "    </tr>\n",
              "    <tr>\n",
              "      <th>7</th>\n",
              "      <td>4845938</td>\n",
              "      <td>It appears as the second track of their 1966 album A Quick One.</td>\n",
              "    </tr>\n",
              "    <tr>\n",
              "      <th>8</th>\n",
              "      <td>4845938</td>\n",
              "      <td>This song is claimed to be Entwistle's first composition, and became a staple of live shows.</td>\n",
              "    </tr>\n",
              "    <tr>\n",
              "      <th>9</th>\n",
              "      <td>4845938</td>\n",
              "      <td>This song, along with \"My Wife\", \"Heaven and Hell\" and \"The Quiet One\", were Entwistle's most popular songs to perform live.</td>\n",
              "    </tr>\n",
              "  </tbody>\n",
              "</table>\n",
              "</div>"
            ],
            "text/plain": [
              "   article_id  \\\n",
              "0    14877816   \n",
              "1    14877816   \n",
              "2    14877816   \n",
              "3    14877816   \n",
              "4    14877816   \n",
              "5    14877816   \n",
              "6     4845938   \n",
              "7     4845938   \n",
              "8     4845938   \n",
              "9     4845938   \n",
              "\n",
              "                                                                                                                                          text  \n",
              "0                                            Myeloid cell Nuclear Differentiation Antigen is a protein that in humans is encoded as MNDA gene.  \n",
              "1             The myeloid cell nuclear differentiation antigen (MNDA) is detected only in nuclei of cells of the granulocyte-monocyte lineage.  \n",
              "2  A 200-amino acid region of human MNDA is strikingly similar to a region in the proteins encoded by a family of interferon-inducible mous...  \n",
              "3  The 1.8-kb MNDA mRNA, which contains an interferon-stimulated response element in the 5' UTR, was significantly upregulated in human mon...  \n",
              "4                                                                             MNDA is located within 2,200 kb of FCER1A, APCS, CRP, and SPTA1.  \n",
              "5  In its pattern of expression and/or regulation, MNDA resembles IFI16, suggesting that these genes participate in blood cell-specific res...  \n",
              "6                                                            \"Boris the Spider\" is a song written by the Who's bass guitarist, John Entwistle.  \n",
              "7                                                                              It appears as the second track of their 1966 album A Quick One.  \n",
              "8                                                 This song is claimed to be Entwistle's first composition, and became a staple of live shows.  \n",
              "9                 This song, along with \"My Wife\", \"Heaven and Hell\" and \"The Quiet One\", were Entwistle's most popular songs to perform live.  "
            ]
          },
          "metadata": {},
          "output_type": "display_data"
        }
      ],
      "source": [
        "# Note each `text` is one sentence from article `article_id`\n",
        "display(pd.DataFrame(wiki[:10]))"
      ]
    },
    {
      "cell_type": "markdown",
      "metadata": {
        "id": "QOVqVnx7g-Hy"
      },
      "source": [
        "## Train new instance of `BertTokenizerFast`"
      ]
    },
    {
      "cell_type": "code",
      "execution_count": 9,
      "metadata": {
        "colab": {
          "base_uri": "https://localhost:8080/",
          "height": 17
        },
        "id": "1Uc4pSoZgWZp",
        "outputId": "f0581266-24cf-43cf-eb1a-4c578fe4f68f"
      },
      "outputs": [],
      "source": [
        "from transformers import BertTokenizerFast\n",
        "\n",
        "vocab_size = 20_000\n",
        "tokenizer_output_dir = \"../_data/tokenizer\"\n",
        "use_pretrained = True\n",
        "\n",
        "if use_pretrained:\n",
        "    tokenizer = BertTokenizerFast.from_pretrained(tokenizer_output_dir)\n",
        "else:\n",
        "    tokenizer = (BertTokenizerFast\n",
        "                    .from_pretrained(\"bert-base-cased\")\n",
        "                    .train_new_from_iterator(wiki[\"text\"], vocab_size))\n",
        "\n",
        "    tokenizer.save_pretrained(tokenizer_output_dir)"
      ]
    },
    {
      "cell_type": "code",
      "execution_count": 9,
      "metadata": {
        "colab": {
          "base_uri": "https://localhost:8080/",
          "height": 71
        },
        "id": "d28AlLL5gzcn",
        "outputId": "b6150344-3e2e-445a-93d4-f352e2b7756d"
      },
      "outputs": [
        {
          "data": {
            "text/html": [
              "\n",
              "  <style>\n",
              "    pre {\n",
              "        white-space: pre-wrap;\n",
              "    }\n",
              "  </style>\n",
              "  "
            ],
            "text/plain": [
              "<IPython.core.display.HTML object>"
            ]
          },
          "metadata": {},
          "output_type": "display_data"
        },
        {
          "name": "stdout",
          "output_type": "stream",
          "text": [
            "{'input_ids': [2, 1933, 17790, 212, 3796, 13993, 18314, 2658, 19885, 171, 214, 69, 6632, 254, 175, 7079, 214, 17251, 216, 49, 19394, 137, 8234, 18, 3], 'token_type_ids': [0, 0, 0, 0, 0, 0, 0, 0, 0, 0, 0, 0, 0, 0, 0, 0, 0, 0, 0, 0, 0, 0, 0, 0, 0], 'attention_mask': [1, 1, 1, 1, 1, 1, 1, 1, 1, 1, 1, 1, 1, 1, 1, 1, 1, 1, 1, 1, 1, 1, 1, 1, 1]}\n"
          ]
        }
      ],
      "source": [
        "example_encoding = tokenizer(example[\"text\"])\n",
        "print(example_encoding)"
      ]
    },
    {
      "cell_type": "code",
      "execution_count": 10,
      "metadata": {
        "colab": {
          "base_uri": "https://localhost:8080/",
          "height": 53
        },
        "id": "-V5EdDltg7oK",
        "outputId": "fd773b10-aca0-4238-9212-6fdc50103100"
      },
      "outputs": [
        {
          "data": {
            "text/html": [
              "\n",
              "  <style>\n",
              "    pre {\n",
              "        white-space: pre-wrap;\n",
              "    }\n",
              "  </style>\n",
              "  "
            ],
            "text/plain": [
              "<IPython.core.display.HTML object>"
            ]
          },
          "metadata": {},
          "output_type": "display_data"
        },
        {
          "name": "stdout",
          "output_type": "stream",
          "text": [
            "[CLS] My ##elo ##id cell Nuclear Different ##iation Antig ##en is a protein that in humans is encoded as M ##ND ##A gene . [SEP]\n",
            "[CLS] Myeloid cell Nuclear Differentiation Antigen is a protein that in humans is encoded as MNDA gene. [SEP]\n"
          ]
        }
      ],
      "source": [
        "print(\" \".join(tokenizer.convert_ids_to_tokens(example_encoding[\"input_ids\"])))\n",
        "print(tokenizer.decode(example_encoding[\"input_ids\"]))"
      ]
    },
    {
      "cell_type": "markdown",
      "metadata": {
        "id": "krgDfWCoizGW"
      },
      "source": [
        "## Run pretraining on one example"
      ]
    },
    {
      "cell_type": "code",
      "execution_count": 10,
      "metadata": {
        "colab": {
          "base_uri": "https://localhost:8080/",
          "height": 85,
          "referenced_widgets": [
            "cf6542dc47b34db39644f550d7a02490",
            "67f61690d39e474ab17e3c0734bdf2c6",
            "0f99acddee06454bbb4cb01105b6468e",
            "7552ad048b2748c2b33da2973885c04d",
            "f3dc1883eed3487ba3ba0f10b3f7f27b",
            "b188eec0802247c4a0a7ddff6804b4f9",
            "0cc5a68873d94c8493239a3ea9631ab8",
            "abe809d0d00a46ad92e22b211cf5a9b3",
            "43b6eb996d9949b69d80518919323389",
            "ff3df9f5793e4792997c93e8840ce495",
            "244ad43d5a3d49d7abbf9a7733bd8609"
          ]
        },
        "id": "Xef4yXoslUmY",
        "outputId": "031d0468-83c6-405a-e283-dd09b3637bac"
      },
      "outputs": [
        {
          "name": "stderr",
          "output_type": "stream",
          "text": [
            "num_proc must be <= 1. Reducing num_proc to 1 for dataset of size 1.\n",
            "100%|██████████| 1/1 [00:00<00:00, 136.46ba/s]\n"
          ]
        },
        {
          "name": "stdout",
          "output_type": "stream",
          "text": [
            "[CLS] Myeloid cell Nuclear Differentiation Antigen is a protein that in humans is encoded as MNDA gene. [SEP]\n"
          ]
        }
      ],
      "source": [
        "tokenize_function = lambda examples: tokenizer(examples[\"text\"])\n",
        "\n",
        "tokenized_dataset = (wiki.select(range(1))\n",
        "                         .map(tokenize_function, \n",
        "                              batched = True, \n",
        "                              num_proc = 4, \n",
        "                              remove_columns = [\"text\", \"article_id\"]))\n",
        "\n",
        "print(tokenizer.decode(tokenized_dataset[0][\"input_ids\"]))"
      ]
    },
    {
      "cell_type": "code",
      "execution_count": 11,
      "metadata": {
        "colab": {
          "base_uri": "https://localhost:8080/",
          "height": 565
        },
        "id": "EKNQouqSi1QS",
        "outputId": "0e854f27-8f7f-4948-8031-422d015fa3a0"
      },
      "outputs": [
        {
          "name": "stderr",
          "output_type": "stream",
          "text": [
            "/Users/yenson/.mambaforge/envs/pii/lib/python3.10/site-packages/transformers/optimization.py:306: FutureWarning: This implementation of AdamW is deprecated and will be removed in a future version. Use the PyTorch implementation torch.optim.AdamW instead, or set `no_deprecation_warning=True` to disable this warning\n",
            "  warnings.warn(\n",
            "***** Running training *****\n",
            "  Num examples = 1\n",
            "  Num Epochs = 100\n",
            "  Instantaneous batch size per device = 64\n",
            "  Total train batch size (w. parallel, distributed & accumulation) = 64\n",
            "  Gradient Accumulation steps = 1\n",
            "  Total optimization steps = 100\n",
            "  0%|          | 0/100 [00:00<?, ?it/s]You're using a BertTokenizerFast tokenizer. Please note that with a fast tokenizer, using the `__call__` method is faster than using a method to encode the text followed by a call to the `pad` method to get a padded encoding.\n",
            "100%|██████████| 100/100 [00:30<00:00,  3.46it/s]\n",
            "\n",
            "Training completed. Do not forget to share your model on huggingface.co/models =)\n",
            "\n",
            "\n",
            "100%|██████████| 100/100 [00:30<00:00,  3.33it/s]\n",
            "Saving model checkpoint to ../_data/pretrain\n",
            "Configuration saved in ../_data/pretrain/config.json\n"
          ]
        },
        {
          "name": "stdout",
          "output_type": "stream",
          "text": [
            "{'train_runtime': 30.0314, 'train_samples_per_second': 3.33, 'train_steps_per_second': 3.33, 'train_loss': 1.7977354431152344, 'epoch': 100.0}\n"
          ]
        },
        {
          "name": "stderr",
          "output_type": "stream",
          "text": [
            "Model weights saved in ../_data/pretrain/pytorch_model.bin\n"
          ]
        }
      ],
      "source": [
        "from transformers import (BertConfig,\n",
        "                          BertForMaskedLM,\n",
        "                          DataCollatorForLanguageModeling,\n",
        "                          Trainer,\n",
        "                          TrainingArguments)\n",
        "\n",
        "# input 1: tokenizer\n",
        "data_collator = DataCollatorForLanguageModeling(tokenizer = tokenizer,\n",
        "                                                mlm_probability = 0.5)\n",
        "\n",
        "bert_config = BertConfig(vocab_size = tokenizer.vocab_size)\n",
        "\n",
        "model = BertForMaskedLM(config = bert_config)\n",
        "\n",
        "# input 2: tokenized_dataset\n",
        "num_train_epochs = 100\n",
        "pretrain_output_dir = \"../_data/pretrain\"\n",
        "\n",
        "training_args = TrainingArguments(num_train_epochs = num_train_epochs,\n",
        "                                  per_device_train_batch_size = 64,\n",
        "                                  save_steps = 10_000,\n",
        "                                  save_total_limit = 2,\n",
        "                                  prediction_loss_only = True,\n",
        "                                  output_dir = pretrain_output_dir,\n",
        "                                  overwrite_output_dir = True)\n",
        "\n",
        "trainer = Trainer(model = model,\n",
        "                  args = training_args,\n",
        "                  data_collator = data_collator,\n",
        "                  train_dataset = tokenized_dataset)\n",
        "\n",
        "trainer.train()\n",
        "trainer.save_model(pretrain_output_dir)"
      ]
    },
    {
      "cell_type": "markdown",
      "metadata": {
        "id": "0Snn1ZtFl-Bq"
      },
      "source": [
        "## Evaluation"
      ]
    },
    {
      "cell_type": "code",
      "execution_count": 12,
      "metadata": {
        "colab": {
          "base_uri": "https://localhost:8080/",
          "height": 1000
        },
        "id": "cCAJLiVjmuOJ",
        "outputId": "92fa5c8a-3a24-48e1-c519-802980dc098f"
      },
      "outputs": [
        {
          "name": "stderr",
          "output_type": "stream",
          "text": [
            "loading configuration file ../_data/pretrain/config.json\n",
            "Model config BertConfig {\n",
            "  \"_name_or_path\": \"../_data/pretrain\",\n",
            "  \"architectures\": [\n",
            "    \"BertForMaskedLM\"\n",
            "  ],\n",
            "  \"attention_probs_dropout_prob\": 0.1,\n",
            "  \"classifier_dropout\": null,\n",
            "  \"hidden_act\": \"gelu\",\n",
            "  \"hidden_dropout_prob\": 0.1,\n",
            "  \"hidden_size\": 768,\n",
            "  \"initializer_range\": 0.02,\n",
            "  \"intermediate_size\": 3072,\n",
            "  \"layer_norm_eps\": 1e-12,\n",
            "  \"max_position_embeddings\": 512,\n",
            "  \"model_type\": \"bert\",\n",
            "  \"num_attention_heads\": 12,\n",
            "  \"num_hidden_layers\": 12,\n",
            "  \"pad_token_id\": 0,\n",
            "  \"position_embedding_type\": \"absolute\",\n",
            "  \"torch_dtype\": \"float32\",\n",
            "  \"transformers_version\": \"4.22.1\",\n",
            "  \"type_vocab_size\": 2,\n",
            "  \"use_cache\": true,\n",
            "  \"vocab_size\": 20000\n",
            "}\n",
            "\n",
            "loading configuration file ../_data/pretrain/config.json\n",
            "Model config BertConfig {\n",
            "  \"_name_or_path\": \"../_data/pretrain\",\n",
            "  \"architectures\": [\n",
            "    \"BertForMaskedLM\"\n",
            "  ],\n",
            "  \"attention_probs_dropout_prob\": 0.1,\n",
            "  \"classifier_dropout\": null,\n",
            "  \"hidden_act\": \"gelu\",\n",
            "  \"hidden_dropout_prob\": 0.1,\n",
            "  \"hidden_size\": 768,\n",
            "  \"initializer_range\": 0.02,\n",
            "  \"intermediate_size\": 3072,\n",
            "  \"layer_norm_eps\": 1e-12,\n",
            "  \"max_position_embeddings\": 512,\n",
            "  \"model_type\": \"bert\",\n",
            "  \"num_attention_heads\": 12,\n",
            "  \"num_hidden_layers\": 12,\n",
            "  \"pad_token_id\": 0,\n",
            "  \"position_embedding_type\": \"absolute\",\n",
            "  \"torch_dtype\": \"float32\",\n",
            "  \"transformers_version\": \"4.22.1\",\n",
            "  \"type_vocab_size\": 2,\n",
            "  \"use_cache\": true,\n",
            "  \"vocab_size\": 20000\n",
            "}\n",
            "\n",
            "loading weights file ../_data/pretrain/pytorch_model.bin\n",
            "All model checkpoint weights were used when initializing BertForMaskedLM.\n",
            "\n",
            "All the weights of BertForMaskedLM were initialized from the model checkpoint at ../_data/pretrain.\n",
            "If your task is similar to the task the model of the checkpoint was trained on, you can already use BertForMaskedLM for predictions without further training.\n",
            "loading file vocab.txt\n",
            "loading file tokenizer.json\n",
            "loading file added_tokens.json\n",
            "loading file special_tokens_map.json\n",
            "loading file tokenizer_config.json\n"
          ]
        }
      ],
      "source": [
        "from transformers import pipeline\n",
        "\n",
        "fill_mask = pipeline(\"fill-mask\",\n",
        "                     model = pretrain_output_dir,\n",
        "                     tokenizer = tokenizer_output_dir)"
      ]
    },
    {
      "cell_type": "code",
      "execution_count": 13,
      "metadata": {
        "colab": {
          "base_uri": "https://localhost:8080/",
          "height": 380
        },
        "id": "pVx8kRuUmmjm",
        "outputId": "59c66939-3c0e-4b2c-b5f4-5b81fde883fc"
      },
      "outputs": [
        {
          "data": {
            "text/plain": [
              "[{'score': 0.9344049096107483,\n",
              "  'token': 17251,\n",
              "  'token_str': 'encoded',\n",
              "  'sequence': 'Myeloid cell Nuclear Differentiation Antigen is a protein that in humans is encoded as MNDA gene.'},\n",
              " {'score': 8.077319216681644e-05,\n",
              "  'token': 214,\n",
              "  'token_str': 'is',\n",
              "  'sequence': 'Myeloid cell Nuclear Differentiation Antigen is a protein that in humans is is as MNDA gene.'},\n",
              " {'score': 3.899676084984094e-05,\n",
              "  'token': 18,\n",
              "  'token_str': '.',\n",
              "  'sequence': 'Myeloid cell Nuclear Differentiation Antigen is a protein that in humans is. as MNDA gene.'},\n",
              " {'score': 2.848868643923197e-05,\n",
              "  'token': 175,\n",
              "  'token_str': 'in',\n",
              "  'sequence': 'Myeloid cell Nuclear Differentiation Antigen is a protein that in humans is in as MNDA gene.'},\n",
              " {'score': 2.4256074539152905e-05,\n",
              "  'token': 8234,\n",
              "  'token_str': 'gene',\n",
              "  'sequence': 'Myeloid cell Nuclear Differentiation Antigen is a protein that in humans is gene as MNDA gene.'}]"
            ]
          },
          "execution_count": 13,
          "metadata": {},
          "output_type": "execute_result"
        }
      ],
      "source": [
        "# Myeloid cell Nuclear Differentiation Antigen is a protein that in humans is encoded as MNDA gene.\n",
        "\n",
        "fill_mask(\n",
        "    \"Myeloid cell Nuclear Differentiation Antigen is a protein that in humans is [MASK] as MNDA gene.\"\n",
        ")"
      ]
    },
    {
      "cell_type": "code",
      "execution_count": 14,
      "metadata": {
        "colab": {
          "base_uri": "https://localhost:8080/",
          "height": 380
        },
        "id": "ny-MdUNInoAs",
        "outputId": "899bd56b-7ab6-4a5f-ee67-a4146f8fadb3"
      },
      "outputs": [
        {
          "data": {
            "text/plain": [
              "[{'score': 0.948901891708374,\n",
              "  'token': 18314,\n",
              "  'token_str': 'Different',\n",
              "  'sequence': 'Myeloid cell Nuclear Different Antigen is a protein that in humans is encoded as MNDA gene.'},\n",
              " {'score': 3.187018592143431e-05,\n",
              "  'token': 175,\n",
              "  'token_str': 'in',\n",
              "  'sequence': 'Myeloid cell Nuclear in Antigen is a protein that in humans is encoded as MNDA gene.'},\n",
              " {'score': 1.589172643434722e-05,\n",
              "  'token': 394,\n",
              "  'token_str': '##ational',\n",
              "  'sequence': 'Myeloid cell Nuclearational Antigen is a protein that in humans is encoded as MNDA gene.'},\n",
              " {'score': 1.528169923403766e-05,\n",
              "  'token': 1569,\n",
              "  'token_str': 'exper',\n",
              "  'sequence': 'Myeloid cell Nuclear exper Antigen is a protein that in humans is encoded as MNDA gene.'},\n",
              " {'score': 1.4670657037640922e-05,\n",
              "  'token': 19756,\n",
              "  'token_str': 'Germanic',\n",
              "  'sequence': 'Myeloid cell Nuclear Germanic Antigen is a protein that in humans is encoded as MNDA gene.'}]"
            ]
          },
          "execution_count": 14,
          "metadata": {},
          "output_type": "execute_result"
        }
      ],
      "source": [
        "# Myeloid cell Nuclear Differentiation Antigen is a protein that in humans is encoded as MNDA gene.\n",
        "\n",
        "fill_mask(\n",
        "    \"Myeloid cell Nuclear [MASK] Antigen is a protein that in humans is encoded as MNDA gene.\"\n",
        ")"
      ]
    },
    {
      "cell_type": "code",
      "execution_count": 15,
      "metadata": {
        "id": "2K2cJJHgnyAV"
      },
      "outputs": [],
      "source": []
    }
  ],
  "metadata": {
    "accelerator": "GPU",
    "colab": {
      "machine_shape": "hm",
      "provenance": []
    },
    "kernelspec": {
      "display_name": "Python 3.10.6 ('pii')",
      "language": "python",
      "name": "python3"
    },
    "language_info": {
      "codemirror_mode": {
        "name": "ipython",
        "version": 3
      },
      "file_extension": ".py",
      "mimetype": "text/x-python",
      "name": "python",
      "nbconvert_exporter": "python",
      "pygments_lexer": "ipython3",
      "version": "3.10.6"
    },
    "vscode": {
      "interpreter": {
        "hash": "9c6a09ae61f2c394f67ff51dc946b62f1df5f97b79879dc2b09d91cc9b837b3e"
      }
    },
    "widgets": {
      "application/vnd.jupyter.widget-state+json": {
        "0cc5a68873d94c8493239a3ea9631ab8": {
          "model_module": "@jupyter-widgets/controls",
          "model_module_version": "1.5.0",
          "model_name": "DescriptionStyleModel",
          "state": {
            "_model_module": "@jupyter-widgets/controls",
            "_model_module_version": "1.5.0",
            "_model_name": "DescriptionStyleModel",
            "_view_count": null,
            "_view_module": "@jupyter-widgets/base",
            "_view_module_version": "1.2.0",
            "_view_name": "StyleView",
            "description_width": ""
          }
        },
        "0f99acddee06454bbb4cb01105b6468e": {
          "model_module": "@jupyter-widgets/controls",
          "model_module_version": "1.5.0",
          "model_name": "FloatProgressModel",
          "state": {
            "_dom_classes": [],
            "_model_module": "@jupyter-widgets/controls",
            "_model_module_version": "1.5.0",
            "_model_name": "FloatProgressModel",
            "_view_count": null,
            "_view_module": "@jupyter-widgets/controls",
            "_view_module_version": "1.5.0",
            "_view_name": "ProgressView",
            "bar_style": "success",
            "description": "",
            "description_tooltip": null,
            "layout": "IPY_MODEL_abe809d0d00a46ad92e22b211cf5a9b3",
            "max": 1,
            "min": 0,
            "orientation": "horizontal",
            "style": "IPY_MODEL_43b6eb996d9949b69d80518919323389",
            "value": 1
          }
        },
        "1320ebf47f6049a09c8d0c625b20c6da": {
          "model_module": "@jupyter-widgets/controls",
          "model_module_version": "1.5.0",
          "model_name": "DescriptionStyleModel",
          "state": {
            "_model_module": "@jupyter-widgets/controls",
            "_model_module_version": "1.5.0",
            "_model_name": "DescriptionStyleModel",
            "_view_count": null,
            "_view_module": "@jupyter-widgets/base",
            "_view_module_version": "1.2.0",
            "_view_name": "StyleView",
            "description_width": ""
          }
        },
        "1d0c6f337a794765ba91f34197b6543b": {
          "model_module": "@jupyter-widgets/base",
          "model_module_version": "1.2.0",
          "model_name": "LayoutModel",
          "state": {
            "_model_module": "@jupyter-widgets/base",
            "_model_module_version": "1.2.0",
            "_model_name": "LayoutModel",
            "_view_count": null,
            "_view_module": "@jupyter-widgets/base",
            "_view_module_version": "1.2.0",
            "_view_name": "LayoutView",
            "align_content": null,
            "align_items": null,
            "align_self": null,
            "border": null,
            "bottom": null,
            "display": null,
            "flex": null,
            "flex_flow": null,
            "grid_area": null,
            "grid_auto_columns": null,
            "grid_auto_flow": null,
            "grid_auto_rows": null,
            "grid_column": null,
            "grid_gap": null,
            "grid_row": null,
            "grid_template_areas": null,
            "grid_template_columns": null,
            "grid_template_rows": null,
            "height": null,
            "justify_content": null,
            "justify_items": null,
            "left": null,
            "margin": null,
            "max_height": null,
            "max_width": null,
            "min_height": null,
            "min_width": null,
            "object_fit": null,
            "object_position": null,
            "order": null,
            "overflow": null,
            "overflow_x": null,
            "overflow_y": null,
            "padding": null,
            "right": null,
            "top": null,
            "visibility": null,
            "width": null
          }
        },
        "244ad43d5a3d49d7abbf9a7733bd8609": {
          "model_module": "@jupyter-widgets/controls",
          "model_module_version": "1.5.0",
          "model_name": "DescriptionStyleModel",
          "state": {
            "_model_module": "@jupyter-widgets/controls",
            "_model_module_version": "1.5.0",
            "_model_name": "DescriptionStyleModel",
            "_view_count": null,
            "_view_module": "@jupyter-widgets/base",
            "_view_module_version": "1.2.0",
            "_view_name": "StyleView",
            "description_width": ""
          }
        },
        "2d76a14b4c1a4851bed7eb8b0b3ca79f": {
          "model_module": "@jupyter-widgets/base",
          "model_module_version": "1.2.0",
          "model_name": "LayoutModel",
          "state": {
            "_model_module": "@jupyter-widgets/base",
            "_model_module_version": "1.2.0",
            "_model_name": "LayoutModel",
            "_view_count": null,
            "_view_module": "@jupyter-widgets/base",
            "_view_module_version": "1.2.0",
            "_view_name": "LayoutView",
            "align_content": null,
            "align_items": null,
            "align_self": null,
            "border": null,
            "bottom": null,
            "display": null,
            "flex": null,
            "flex_flow": null,
            "grid_area": null,
            "grid_auto_columns": null,
            "grid_auto_flow": null,
            "grid_auto_rows": null,
            "grid_column": null,
            "grid_gap": null,
            "grid_row": null,
            "grid_template_areas": null,
            "grid_template_columns": null,
            "grid_template_rows": null,
            "height": null,
            "justify_content": null,
            "justify_items": null,
            "left": null,
            "margin": null,
            "max_height": null,
            "max_width": null,
            "min_height": null,
            "min_width": null,
            "object_fit": null,
            "object_position": null,
            "order": null,
            "overflow": null,
            "overflow_x": null,
            "overflow_y": null,
            "padding": null,
            "right": null,
            "top": null,
            "visibility": null,
            "width": null
          }
        },
        "3ade6ab30b0b4a5eb9d3ee2bb93046f8": {
          "model_module": "@jupyter-widgets/controls",
          "model_module_version": "1.5.0",
          "model_name": "HTMLModel",
          "state": {
            "_dom_classes": [],
            "_model_module": "@jupyter-widgets/controls",
            "_model_module_version": "1.5.0",
            "_model_name": "HTMLModel",
            "_view_count": null,
            "_view_module": "@jupyter-widgets/controls",
            "_view_module_version": "1.5.0",
            "_view_name": "HTMLView",
            "description": "",
            "description_tooltip": null,
            "layout": "IPY_MODEL_2d76a14b4c1a4851bed7eb8b0b3ca79f",
            "placeholder": "​",
            "style": "IPY_MODEL_ee3c98d2c790447b8251c7f9ed8320a7",
            "value": "100%"
          }
        },
        "3c45ebf2bf5f44f880e281f26637735f": {
          "model_module": "@jupyter-widgets/controls",
          "model_module_version": "1.5.0",
          "model_name": "HTMLModel",
          "state": {
            "_dom_classes": [],
            "_model_module": "@jupyter-widgets/controls",
            "_model_module_version": "1.5.0",
            "_model_name": "HTMLModel",
            "_view_count": null,
            "_view_module": "@jupyter-widgets/controls",
            "_view_module_version": "1.5.0",
            "_view_name": "HTMLView",
            "description": "",
            "description_tooltip": null,
            "layout": "IPY_MODEL_1d0c6f337a794765ba91f34197b6543b",
            "placeholder": "​",
            "style": "IPY_MODEL_1320ebf47f6049a09c8d0c625b20c6da",
            "value": " 1/1 [00:00&lt;00:00, 20.06it/s]"
          }
        },
        "43b6eb996d9949b69d80518919323389": {
          "model_module": "@jupyter-widgets/controls",
          "model_module_version": "1.5.0",
          "model_name": "ProgressStyleModel",
          "state": {
            "_model_module": "@jupyter-widgets/controls",
            "_model_module_version": "1.5.0",
            "_model_name": "ProgressStyleModel",
            "_view_count": null,
            "_view_module": "@jupyter-widgets/base",
            "_view_module_version": "1.2.0",
            "_view_name": "StyleView",
            "bar_color": null,
            "description_width": ""
          }
        },
        "67f61690d39e474ab17e3c0734bdf2c6": {
          "model_module": "@jupyter-widgets/controls",
          "model_module_version": "1.5.0",
          "model_name": "HTMLModel",
          "state": {
            "_dom_classes": [],
            "_model_module": "@jupyter-widgets/controls",
            "_model_module_version": "1.5.0",
            "_model_name": "HTMLModel",
            "_view_count": null,
            "_view_module": "@jupyter-widgets/controls",
            "_view_module_version": "1.5.0",
            "_view_name": "HTMLView",
            "description": "",
            "description_tooltip": null,
            "layout": "IPY_MODEL_b188eec0802247c4a0a7ddff6804b4f9",
            "placeholder": "​",
            "style": "IPY_MODEL_0cc5a68873d94c8493239a3ea9631ab8",
            "value": "100%"
          }
        },
        "7552ad048b2748c2b33da2973885c04d": {
          "model_module": "@jupyter-widgets/controls",
          "model_module_version": "1.5.0",
          "model_name": "HTMLModel",
          "state": {
            "_dom_classes": [],
            "_model_module": "@jupyter-widgets/controls",
            "_model_module_version": "1.5.0",
            "_model_name": "HTMLModel",
            "_view_count": null,
            "_view_module": "@jupyter-widgets/controls",
            "_view_module_version": "1.5.0",
            "_view_name": "HTMLView",
            "description": "",
            "description_tooltip": null,
            "layout": "IPY_MODEL_ff3df9f5793e4792997c93e8840ce495",
            "placeholder": "​",
            "style": "IPY_MODEL_244ad43d5a3d49d7abbf9a7733bd8609",
            "value": " 1/1 [00:00&lt;00:00, 28.57ba/s]"
          }
        },
        "856bb3ed88594d408500fd63a04dbed2": {
          "model_module": "@jupyter-widgets/base",
          "model_module_version": "1.2.0",
          "model_name": "LayoutModel",
          "state": {
            "_model_module": "@jupyter-widgets/base",
            "_model_module_version": "1.2.0",
            "_model_name": "LayoutModel",
            "_view_count": null,
            "_view_module": "@jupyter-widgets/base",
            "_view_module_version": "1.2.0",
            "_view_name": "LayoutView",
            "align_content": null,
            "align_items": null,
            "align_self": null,
            "border": null,
            "bottom": null,
            "display": null,
            "flex": null,
            "flex_flow": null,
            "grid_area": null,
            "grid_auto_columns": null,
            "grid_auto_flow": null,
            "grid_auto_rows": null,
            "grid_column": null,
            "grid_gap": null,
            "grid_row": null,
            "grid_template_areas": null,
            "grid_template_columns": null,
            "grid_template_rows": null,
            "height": null,
            "justify_content": null,
            "justify_items": null,
            "left": null,
            "margin": null,
            "max_height": null,
            "max_width": null,
            "min_height": null,
            "min_width": null,
            "object_fit": null,
            "object_position": null,
            "order": null,
            "overflow": null,
            "overflow_x": null,
            "overflow_y": null,
            "padding": null,
            "right": null,
            "top": null,
            "visibility": null,
            "width": null
          }
        },
        "97e19c91917145c68b3f2a39ba3dfbe3": {
          "model_module": "@jupyter-widgets/controls",
          "model_module_version": "1.5.0",
          "model_name": "FloatProgressModel",
          "state": {
            "_dom_classes": [],
            "_model_module": "@jupyter-widgets/controls",
            "_model_module_version": "1.5.0",
            "_model_name": "FloatProgressModel",
            "_view_count": null,
            "_view_module": "@jupyter-widgets/controls",
            "_view_module_version": "1.5.0",
            "_view_name": "ProgressView",
            "bar_style": "success",
            "description": "",
            "description_tooltip": null,
            "layout": "IPY_MODEL_856bb3ed88594d408500fd63a04dbed2",
            "max": 1,
            "min": 0,
            "orientation": "horizontal",
            "style": "IPY_MODEL_ef9e57c4ab774b45ada8049907380088",
            "value": 1
          }
        },
        "abe809d0d00a46ad92e22b211cf5a9b3": {
          "model_module": "@jupyter-widgets/base",
          "model_module_version": "1.2.0",
          "model_name": "LayoutModel",
          "state": {
            "_model_module": "@jupyter-widgets/base",
            "_model_module_version": "1.2.0",
            "_model_name": "LayoutModel",
            "_view_count": null,
            "_view_module": "@jupyter-widgets/base",
            "_view_module_version": "1.2.0",
            "_view_name": "LayoutView",
            "align_content": null,
            "align_items": null,
            "align_self": null,
            "border": null,
            "bottom": null,
            "display": null,
            "flex": null,
            "flex_flow": null,
            "grid_area": null,
            "grid_auto_columns": null,
            "grid_auto_flow": null,
            "grid_auto_rows": null,
            "grid_column": null,
            "grid_gap": null,
            "grid_row": null,
            "grid_template_areas": null,
            "grid_template_columns": null,
            "grid_template_rows": null,
            "height": null,
            "justify_content": null,
            "justify_items": null,
            "left": null,
            "margin": null,
            "max_height": null,
            "max_width": null,
            "min_height": null,
            "min_width": null,
            "object_fit": null,
            "object_position": null,
            "order": null,
            "overflow": null,
            "overflow_x": null,
            "overflow_y": null,
            "padding": null,
            "right": null,
            "top": null,
            "visibility": null,
            "width": null
          }
        },
        "b188eec0802247c4a0a7ddff6804b4f9": {
          "model_module": "@jupyter-widgets/base",
          "model_module_version": "1.2.0",
          "model_name": "LayoutModel",
          "state": {
            "_model_module": "@jupyter-widgets/base",
            "_model_module_version": "1.2.0",
            "_model_name": "LayoutModel",
            "_view_count": null,
            "_view_module": "@jupyter-widgets/base",
            "_view_module_version": "1.2.0",
            "_view_name": "LayoutView",
            "align_content": null,
            "align_items": null,
            "align_self": null,
            "border": null,
            "bottom": null,
            "display": null,
            "flex": null,
            "flex_flow": null,
            "grid_area": null,
            "grid_auto_columns": null,
            "grid_auto_flow": null,
            "grid_auto_rows": null,
            "grid_column": null,
            "grid_gap": null,
            "grid_row": null,
            "grid_template_areas": null,
            "grid_template_columns": null,
            "grid_template_rows": null,
            "height": null,
            "justify_content": null,
            "justify_items": null,
            "left": null,
            "margin": null,
            "max_height": null,
            "max_width": null,
            "min_height": null,
            "min_width": null,
            "object_fit": null,
            "object_position": null,
            "order": null,
            "overflow": null,
            "overflow_x": null,
            "overflow_y": null,
            "padding": null,
            "right": null,
            "top": null,
            "visibility": null,
            "width": null
          }
        },
        "c5989462b5d341aeb6a4581f868f2d33": {
          "model_module": "@jupyter-widgets/base",
          "model_module_version": "1.2.0",
          "model_name": "LayoutModel",
          "state": {
            "_model_module": "@jupyter-widgets/base",
            "_model_module_version": "1.2.0",
            "_model_name": "LayoutModel",
            "_view_count": null,
            "_view_module": "@jupyter-widgets/base",
            "_view_module_version": "1.2.0",
            "_view_name": "LayoutView",
            "align_content": null,
            "align_items": null,
            "align_self": null,
            "border": null,
            "bottom": null,
            "display": null,
            "flex": null,
            "flex_flow": null,
            "grid_area": null,
            "grid_auto_columns": null,
            "grid_auto_flow": null,
            "grid_auto_rows": null,
            "grid_column": null,
            "grid_gap": null,
            "grid_row": null,
            "grid_template_areas": null,
            "grid_template_columns": null,
            "grid_template_rows": null,
            "height": null,
            "justify_content": null,
            "justify_items": null,
            "left": null,
            "margin": null,
            "max_height": null,
            "max_width": null,
            "min_height": null,
            "min_width": null,
            "object_fit": null,
            "object_position": null,
            "order": null,
            "overflow": null,
            "overflow_x": null,
            "overflow_y": null,
            "padding": null,
            "right": null,
            "top": null,
            "visibility": null,
            "width": null
          }
        },
        "cf6542dc47b34db39644f550d7a02490": {
          "model_module": "@jupyter-widgets/controls",
          "model_module_version": "1.5.0",
          "model_name": "HBoxModel",
          "state": {
            "_dom_classes": [],
            "_model_module": "@jupyter-widgets/controls",
            "_model_module_version": "1.5.0",
            "_model_name": "HBoxModel",
            "_view_count": null,
            "_view_module": "@jupyter-widgets/controls",
            "_view_module_version": "1.5.0",
            "_view_name": "HBoxView",
            "box_style": "",
            "children": [
              "IPY_MODEL_67f61690d39e474ab17e3c0734bdf2c6",
              "IPY_MODEL_0f99acddee06454bbb4cb01105b6468e",
              "IPY_MODEL_7552ad048b2748c2b33da2973885c04d"
            ],
            "layout": "IPY_MODEL_f3dc1883eed3487ba3ba0f10b3f7f27b"
          }
        },
        "e5af020c7f70470eaf1b9c5fd04cf0c7": {
          "model_module": "@jupyter-widgets/controls",
          "model_module_version": "1.5.0",
          "model_name": "HBoxModel",
          "state": {
            "_dom_classes": [],
            "_model_module": "@jupyter-widgets/controls",
            "_model_module_version": "1.5.0",
            "_model_name": "HBoxModel",
            "_view_count": null,
            "_view_module": "@jupyter-widgets/controls",
            "_view_module_version": "1.5.0",
            "_view_name": "HBoxView",
            "box_style": "",
            "children": [
              "IPY_MODEL_3ade6ab30b0b4a5eb9d3ee2bb93046f8",
              "IPY_MODEL_97e19c91917145c68b3f2a39ba3dfbe3",
              "IPY_MODEL_3c45ebf2bf5f44f880e281f26637735f"
            ],
            "layout": "IPY_MODEL_c5989462b5d341aeb6a4581f868f2d33"
          }
        },
        "ee3c98d2c790447b8251c7f9ed8320a7": {
          "model_module": "@jupyter-widgets/controls",
          "model_module_version": "1.5.0",
          "model_name": "DescriptionStyleModel",
          "state": {
            "_model_module": "@jupyter-widgets/controls",
            "_model_module_version": "1.5.0",
            "_model_name": "DescriptionStyleModel",
            "_view_count": null,
            "_view_module": "@jupyter-widgets/base",
            "_view_module_version": "1.2.0",
            "_view_name": "StyleView",
            "description_width": ""
          }
        },
        "ef9e57c4ab774b45ada8049907380088": {
          "model_module": "@jupyter-widgets/controls",
          "model_module_version": "1.5.0",
          "model_name": "ProgressStyleModel",
          "state": {
            "_model_module": "@jupyter-widgets/controls",
            "_model_module_version": "1.5.0",
            "_model_name": "ProgressStyleModel",
            "_view_count": null,
            "_view_module": "@jupyter-widgets/base",
            "_view_module_version": "1.2.0",
            "_view_name": "StyleView",
            "bar_color": null,
            "description_width": ""
          }
        },
        "f3dc1883eed3487ba3ba0f10b3f7f27b": {
          "model_module": "@jupyter-widgets/base",
          "model_module_version": "1.2.0",
          "model_name": "LayoutModel",
          "state": {
            "_model_module": "@jupyter-widgets/base",
            "_model_module_version": "1.2.0",
            "_model_name": "LayoutModel",
            "_view_count": null,
            "_view_module": "@jupyter-widgets/base",
            "_view_module_version": "1.2.0",
            "_view_name": "LayoutView",
            "align_content": null,
            "align_items": null,
            "align_self": null,
            "border": null,
            "bottom": null,
            "display": null,
            "flex": null,
            "flex_flow": null,
            "grid_area": null,
            "grid_auto_columns": null,
            "grid_auto_flow": null,
            "grid_auto_rows": null,
            "grid_column": null,
            "grid_gap": null,
            "grid_row": null,
            "grid_template_areas": null,
            "grid_template_columns": null,
            "grid_template_rows": null,
            "height": null,
            "justify_content": null,
            "justify_items": null,
            "left": null,
            "margin": null,
            "max_height": null,
            "max_width": null,
            "min_height": null,
            "min_width": null,
            "object_fit": null,
            "object_position": null,
            "order": null,
            "overflow": null,
            "overflow_x": null,
            "overflow_y": null,
            "padding": null,
            "right": null,
            "top": null,
            "visibility": null,
            "width": null
          }
        },
        "ff3df9f5793e4792997c93e8840ce495": {
          "model_module": "@jupyter-widgets/base",
          "model_module_version": "1.2.0",
          "model_name": "LayoutModel",
          "state": {
            "_model_module": "@jupyter-widgets/base",
            "_model_module_version": "1.2.0",
            "_model_name": "LayoutModel",
            "_view_count": null,
            "_view_module": "@jupyter-widgets/base",
            "_view_module_version": "1.2.0",
            "_view_name": "LayoutView",
            "align_content": null,
            "align_items": null,
            "align_self": null,
            "border": null,
            "bottom": null,
            "display": null,
            "flex": null,
            "flex_flow": null,
            "grid_area": null,
            "grid_auto_columns": null,
            "grid_auto_flow": null,
            "grid_auto_rows": null,
            "grid_column": null,
            "grid_gap": null,
            "grid_row": null,
            "grid_template_areas": null,
            "grid_template_columns": null,
            "grid_template_rows": null,
            "height": null,
            "justify_content": null,
            "justify_items": null,
            "left": null,
            "margin": null,
            "max_height": null,
            "max_width": null,
            "min_height": null,
            "min_width": null,
            "object_fit": null,
            "object_position": null,
            "order": null,
            "overflow": null,
            "overflow_x": null,
            "overflow_y": null,
            "padding": null,
            "right": null,
            "top": null,
            "visibility": null,
            "width": null
          }
        }
      }
    }
  },
  "nbformat": 4,
  "nbformat_minor": 0
}
