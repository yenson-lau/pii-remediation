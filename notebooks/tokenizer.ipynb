{
 "cells": [
  {
   "cell_type": "code",
   "execution_count": 1,
   "metadata": {},
   "outputs": [],
   "source": [
    "import sys\n",
    "sys.path.append(\"../\")\n",
    "\n",
    "from dataset_builder import WikiDatasetBuilder\n",
    "from bert import WordPieceTrainer"
   ]
  },
  {
   "cell_type": "code",
   "execution_count": 2,
   "metadata": {},
   "outputs": [
    {
     "name": "stderr",
     "output_type": "stream",
     "text": [
      "Using custom data configuration default-a1bc3bc15201d1ce\n",
      "Reusing dataset json (/Users/yenson/.cache/huggingface/datasets/json/default-a1bc3bc15201d1ce/0.0.0/a3e658c4731e59120d44081ac10bf85dc7e1388126b92338344ce9661907f253)\n"
     ]
    },
    {
     "data": {
      "application/json": {
       "ascii": false,
       "bar_format": null,
       "colour": null,
       "elapsed": 0.009786844253540039,
       "initial": 0,
       "n": 0,
       "ncols": null,
       "nrows": null,
       "postfix": null,
       "prefix": "",
       "rate": null,
       "total": 1,
       "unit": "it",
       "unit_divisor": 1000,
       "unit_scale": false
      },
      "application/vnd.jupyter.widget-view+json": {
       "model_id": "24f438718498492797b7a336b6748108",
       "version_major": 2,
       "version_minor": 0
      },
      "text/plain": [
       "  0%|          | 0/1 [00:00<?, ?it/s]"
      ]
     },
     "metadata": {},
     "output_type": "display_data"
    }
   ],
   "source": [
    "wiki = WikiDatasetBuilder().load_dataset(split=\"train\")"
   ]
  },
  {
   "cell_type": "code",
   "execution_count": 3,
   "metadata": {},
   "outputs": [
    {
     "data": {
      "text/plain": [
       "{'article_id': 14877816,\n",
       " 'sentence': 'Myeloid cell Nuclear Differentiation Antigen is a protein that in humans is encoded as MNDA gene.'}"
      ]
     },
     "execution_count": 3,
     "metadata": {},
     "output_type": "execute_result"
    }
   ],
   "source": [
    "wiki[0]"
   ]
  },
  {
   "cell_type": "code",
   "execution_count": 4,
   "metadata": {},
   "outputs": [
    {
     "name": "stdout",
     "output_type": "stream",
     "text": [
      "\n",
      "\n",
      "\n"
     ]
    }
   ],
   "source": [
    "trainer = WordPieceTrainer()\n",
    "trainer.train(wiki)\n",
    "\n",
    "tokenizer = trainer.tokenizer"
   ]
  },
  {
   "cell_type": "code",
   "execution_count": 5,
   "metadata": {},
   "outputs": [
    {
     "data": {
      "text/plain": [
       "['My',\n",
       " '##el',\n",
       " '##oid',\n",
       " 'cell',\n",
       " 'N',\n",
       " '##uc',\n",
       " '##lear',\n",
       " 'Di',\n",
       " '##ff',\n",
       " '##ere',\n",
       " '##nt',\n",
       " '##iation',\n",
       " 'Ant',\n",
       " '##igen',\n",
       " 'is',\n",
       " 'a',\n",
       " 'protein',\n",
       " 'that',\n",
       " 'in',\n",
       " 'humans',\n",
       " 'is',\n",
       " 'enc',\n",
       " '##ode',\n",
       " '##d',\n",
       " 'as',\n",
       " 'M',\n",
       " '##N',\n",
       " '##DA',\n",
       " 'gene',\n",
       " '.']"
      ]
     },
     "execution_count": 5,
     "metadata": {},
     "output_type": "execute_result"
    }
   ],
   "source": [
    "tokenizer.encode(wiki[0][\"sentence\"]).tokens"
   ]
  },
  {
   "cell_type": "code",
   "execution_count": 6,
   "metadata": {},
   "outputs": [],
   "source": [
    "trainer.save_tokenizer()"
   ]
  },
  {
   "cell_type": "code",
   "execution_count": 7,
   "metadata": {},
   "outputs": [
    {
     "data": {
      "text/plain": [
       "['My',\n",
       " '##el',\n",
       " '##oid',\n",
       " 'cell',\n",
       " 'N',\n",
       " '##uc',\n",
       " '##lear',\n",
       " 'Di',\n",
       " '##ff',\n",
       " '##ere',\n",
       " '##nt',\n",
       " '##iation',\n",
       " 'Ant',\n",
       " '##igen',\n",
       " 'is',\n",
       " 'a',\n",
       " 'protein',\n",
       " 'that',\n",
       " 'in',\n",
       " 'humans',\n",
       " 'is',\n",
       " 'enc',\n",
       " '##ode',\n",
       " '##d',\n",
       " 'as',\n",
       " 'M',\n",
       " '##N',\n",
       " '##DA',\n",
       " 'gene',\n",
       " '.']"
      ]
     },
     "execution_count": 7,
     "metadata": {},
     "output_type": "execute_result"
    }
   ],
   "source": [
    "WordPieceTrainer.load_tokenizer().encode(wiki[0][\"sentence\"]).tokens"
   ]
  }
 ],
 "metadata": {
  "kernelspec": {
   "display_name": "Python 3.10.6 ('pii')",
   "language": "python",
   "name": "python3"
  },
  "language_info": {
   "codemirror_mode": {
    "name": "ipython",
    "version": 3
   },
   "file_extension": ".py",
   "mimetype": "text/x-python",
   "name": "python",
   "nbconvert_exporter": "python",
   "pygments_lexer": "ipython3",
   "version": "3.10.6"
  },
  "orig_nbformat": 4,
  "vscode": {
   "interpreter": {
    "hash": "9c6a09ae61f2c394f67ff51dc946b62f1df5f97b79879dc2b09d91cc9b837b3e"
   }
  }
 },
 "nbformat": 4,
 "nbformat_minor": 2
}
