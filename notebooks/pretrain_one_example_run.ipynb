{
 "cells": [
  {
   "cell_type": "code",
   "execution_count": 1,
   "id": "c694dbbc",
   "metadata": {
    "execution": {
     "iopub.execute_input": "2022-09-26T06:54:31.585246Z",
     "iopub.status.busy": "2022-09-26T06:54:31.585056Z",
     "iopub.status.idle": "2022-09-26T06:54:31.835654Z",
     "shell.execute_reply": "2022-09-26T06:54:31.833624Z"
    },
    "papermill": {
     "duration": 0.259332,
     "end_time": "2022-09-26T06:54:31.840460",
     "exception": false,
     "start_time": "2022-09-26T06:54:31.581128",
     "status": "completed"
    },
    "tags": []
   },
   "outputs": [],
   "source": [
    "# Set pd display width\n",
    "import pandas as pd\n",
    "\n",
    "pd.set_option('display.width', 140)\n",
    "pd.set_option('display.max_colwidth', 140)"
   ]
  },
  {
   "cell_type": "markdown",
   "id": "65cd5463",
   "metadata": {
    "id": "s1YTiywIeN7n",
    "papermill": {
     "duration": 0.007403,
     "end_time": "2022-09-26T06:54:31.862903",
     "exception": false,
     "start_time": "2022-09-26T06:54:31.855500",
     "status": "completed"
    },
    "tags": []
   },
   "source": [
    "## Load data"
   ]
  },
  {
   "cell_type": "code",
   "execution_count": 2,
   "id": "76c52d52",
   "metadata": {
    "colab": {
     "base_uri": "https://localhost:8080/",
     "height": 103,
     "referenced_widgets": [
      "e5af020c7f70470eaf1b9c5fd04cf0c7",
      "3ade6ab30b0b4a5eb9d3ee2bb93046f8",
      "97e19c91917145c68b3f2a39ba3dfbe3",
      "3c45ebf2bf5f44f880e281f26637735f",
      "c5989462b5d341aeb6a4581f868f2d33",
      "2d76a14b4c1a4851bed7eb8b0b3ca79f",
      "ee3c98d2c790447b8251c7f9ed8320a7",
      "856bb3ed88594d408500fd63a04dbed2",
      "ef9e57c4ab774b45ada8049907380088",
      "1d0c6f337a794765ba91f34197b6543b",
      "1320ebf47f6049a09c8d0c625b20c6da"
     ]
    },
    "execution": {
     "iopub.execute_input": "2022-09-26T06:54:31.869885Z",
     "iopub.status.busy": "2022-09-26T06:54:31.869675Z",
     "iopub.status.idle": "2022-09-26T06:54:32.424648Z",
     "shell.execute_reply": "2022-09-26T06:54:32.419970Z"
    },
    "id": "XGrzQK5deNC_",
    "outputId": "3a289363-2d48-4a82-a21b-0c51617f7182",
    "papermill": {
     "duration": 0.566128,
     "end_time": "2022-09-26T06:54:32.432351",
     "exception": false,
     "start_time": "2022-09-26T06:54:31.866223",
     "status": "completed"
    },
    "tags": []
   },
   "outputs": [
    {
     "name": "stderr",
     "output_type": "stream",
     "text": [
      "Using custom data configuration default-76618ebe809bedea\n"
     ]
    },
    {
     "name": "stderr",
     "output_type": "stream",
     "text": [
      "Reusing dataset json (/Users/yenson/.cache/huggingface/datasets/json/default-76618ebe809bedea/0.0.0/a3e658c4731e59120d44081ac10bf85dc7e1388126b92338344ce9661907f253)\n"
     ]
    },
    {
     "data": {
      "application/vnd.jupyter.widget-view+json": {
       "model_id": "11ed1e399c6e4c18bf87ee4e29bdb88c",
       "version_major": 2,
       "version_minor": 0
      },
      "text/plain": [
       "  0%|          | 0/1 [00:00<?, ?it/s]"
      ]
     },
     "metadata": {},
     "output_type": "display_data"
    }
   ],
   "source": [
    "from datasets import load_dataset\n",
    "\n",
    "wiki = load_dataset(\"json\", \n",
    "                    data_files=\"../_data/wiki/20220301.en.test/train_data.json\", \n",
    "                    field=\"data\")[\"train\"]"
   ]
  },
  {
   "cell_type": "code",
   "execution_count": 3,
   "id": "4dcff329",
   "metadata": {
    "colab": {
     "base_uri": "https://localhost:8080/",
     "height": 35
    },
    "execution": {
     "iopub.execute_input": "2022-09-26T06:54:32.440645Z",
     "iopub.status.busy": "2022-09-26T06:54:32.440302Z",
     "iopub.status.idle": "2022-09-26T06:54:32.444110Z",
     "shell.execute_reply": "2022-09-26T06:54:32.443519Z"
    },
    "id": "guUj9taSgQjx",
    "outputId": "71fceb8e-6027-479d-bb66-ac9c24fc3bbc",
    "papermill": {
     "duration": 0.01124,
     "end_time": "2022-09-26T06:54:32.447545",
     "exception": false,
     "start_time": "2022-09-26T06:54:32.436305",
     "status": "completed"
    },
    "tags": []
   },
   "outputs": [
    {
     "name": "stdout",
     "output_type": "stream",
     "text": [
      "{'article_id': 14877816, 'text': 'Myeloid cell Nuclear Differentiation Antigen is a protein that in humans is encoded as MNDA gene.'}\n"
     ]
    }
   ],
   "source": [
    "example = wiki[0]\n",
    "print(example)"
   ]
  },
  {
   "cell_type": "code",
   "execution_count": 4,
   "id": "cc9375cf",
   "metadata": {
    "colab": {
     "base_uri": "https://localhost:8080/",
     "height": 363
    },
    "execution": {
     "iopub.execute_input": "2022-09-26T06:54:32.483007Z",
     "iopub.status.busy": "2022-09-26T06:54:32.473197Z",
     "iopub.status.idle": "2022-09-26T06:54:32.505625Z",
     "shell.execute_reply": "2022-09-26T06:54:32.504728Z"
    },
    "id": "h5fKX1sLepVK",
    "outputId": "bf0582af-6f2c-46e0-fde9-fa9b91268921",
    "papermill": {
     "duration": 0.05578,
     "end_time": "2022-09-26T06:54:32.509060",
     "exception": false,
     "start_time": "2022-09-26T06:54:32.453280",
     "status": "completed"
    },
    "tags": []
   },
   "outputs": [
    {
     "data": {
      "text/html": [
       "<div>\n",
       "<style scoped>\n",
       "    .dataframe tbody tr th:only-of-type {\n",
       "        vertical-align: middle;\n",
       "    }\n",
       "\n",
       "    .dataframe tbody tr th {\n",
       "        vertical-align: top;\n",
       "    }\n",
       "\n",
       "    .dataframe thead th {\n",
       "        text-align: right;\n",
       "    }\n",
       "</style>\n",
       "<table border=\"1\" class=\"dataframe\">\n",
       "  <thead>\n",
       "    <tr style=\"text-align: right;\">\n",
       "      <th></th>\n",
       "      <th>article_id</th>\n",
       "      <th>text</th>\n",
       "    </tr>\n",
       "  </thead>\n",
       "  <tbody>\n",
       "    <tr>\n",
       "      <th>0</th>\n",
       "      <td>14877816</td>\n",
       "      <td>Myeloid cell Nuclear Differentiation Antigen is a protein that in humans is encoded as MNDA gene.</td>\n",
       "    </tr>\n",
       "    <tr>\n",
       "      <th>1</th>\n",
       "      <td>14877816</td>\n",
       "      <td>The myeloid cell nuclear differentiation antigen (MNDA) is detected only in nuclei of cells of the granulocyte-monocyte lineage.</td>\n",
       "    </tr>\n",
       "    <tr>\n",
       "      <th>2</th>\n",
       "      <td>14877816</td>\n",
       "      <td>A 200-amino acid region of human MNDA is strikingly similar to a region in the proteins encoded by a family of interferon-inducible mous...</td>\n",
       "    </tr>\n",
       "    <tr>\n",
       "      <th>3</th>\n",
       "      <td>14877816</td>\n",
       "      <td>The 1.8-kb MNDA mRNA, which contains an interferon-stimulated response element in the 5' UTR, was significantly upregulated in human mon...</td>\n",
       "    </tr>\n",
       "    <tr>\n",
       "      <th>4</th>\n",
       "      <td>14877816</td>\n",
       "      <td>MNDA is located within 2,200 kb of FCER1A, APCS, CRP, and SPTA1.</td>\n",
       "    </tr>\n",
       "    <tr>\n",
       "      <th>5</th>\n",
       "      <td>14877816</td>\n",
       "      <td>In its pattern of expression and/or regulation, MNDA resembles IFI16, suggesting that these genes participate in blood cell-specific res...</td>\n",
       "    </tr>\n",
       "    <tr>\n",
       "      <th>6</th>\n",
       "      <td>4845938</td>\n",
       "      <td>\"Boris the Spider\" is a song written by the Who's bass guitarist, John Entwistle.</td>\n",
       "    </tr>\n",
       "    <tr>\n",
       "      <th>7</th>\n",
       "      <td>4845938</td>\n",
       "      <td>It appears as the second track of their 1966 album A Quick One.</td>\n",
       "    </tr>\n",
       "    <tr>\n",
       "      <th>8</th>\n",
       "      <td>4845938</td>\n",
       "      <td>This song is claimed to be Entwistle's first composition, and became a staple of live shows.</td>\n",
       "    </tr>\n",
       "    <tr>\n",
       "      <th>9</th>\n",
       "      <td>4845938</td>\n",
       "      <td>This song, along with \"My Wife\", \"Heaven and Hell\" and \"The Quiet One\", were Entwistle's most popular songs to perform live.</td>\n",
       "    </tr>\n",
       "  </tbody>\n",
       "</table>\n",
       "</div>"
      ],
      "text/plain": [
       "   article_id  \\\n",
       "0    14877816   \n",
       "1    14877816   \n",
       "2    14877816   \n",
       "3    14877816   \n",
       "4    14877816   \n",
       "5    14877816   \n",
       "6     4845938   \n",
       "7     4845938   \n",
       "8     4845938   \n",
       "9     4845938   \n",
       "\n",
       "                                                                                                                                          text  \n",
       "0                                            Myeloid cell Nuclear Differentiation Antigen is a protein that in humans is encoded as MNDA gene.  \n",
       "1             The myeloid cell nuclear differentiation antigen (MNDA) is detected only in nuclei of cells of the granulocyte-monocyte lineage.  \n",
       "2  A 200-amino acid region of human MNDA is strikingly similar to a region in the proteins encoded by a family of interferon-inducible mous...  \n",
       "3  The 1.8-kb MNDA mRNA, which contains an interferon-stimulated response element in the 5' UTR, was significantly upregulated in human mon...  \n",
       "4                                                                             MNDA is located within 2,200 kb of FCER1A, APCS, CRP, and SPTA1.  \n",
       "5  In its pattern of expression and/or regulation, MNDA resembles IFI16, suggesting that these genes participate in blood cell-specific res...  \n",
       "6                                                            \"Boris the Spider\" is a song written by the Who's bass guitarist, John Entwistle.  \n",
       "7                                                                              It appears as the second track of their 1966 album A Quick One.  \n",
       "8                                                 This song is claimed to be Entwistle's first composition, and became a staple of live shows.  \n",
       "9                 This song, along with \"My Wife\", \"Heaven and Hell\" and \"The Quiet One\", were Entwistle's most popular songs to perform live.  "
      ]
     },
     "metadata": {},
     "output_type": "display_data"
    }
   ],
   "source": [
    "# Note each `text` is one sentence from article `article_id`\n",
    "display(pd.DataFrame(wiki[:10]))"
   ]
  },
  {
   "cell_type": "markdown",
   "id": "e3883238",
   "metadata": {
    "id": "QOVqVnx7g-Hy",
    "papermill": {
     "duration": 0.004932,
     "end_time": "2022-09-26T06:54:32.518976",
     "exception": false,
     "start_time": "2022-09-26T06:54:32.514044",
     "status": "completed"
    },
    "tags": []
   },
   "source": [
    "## Train new instance of `BertTokenizerFast`"
   ]
  },
  {
   "cell_type": "code",
   "execution_count": 5,
   "id": "ea197898",
   "metadata": {
    "colab": {
     "base_uri": "https://localhost:8080/",
     "height": 17
    },
    "execution": {
     "iopub.execute_input": "2022-09-26T06:54:32.539630Z",
     "iopub.status.busy": "2022-09-26T06:54:32.539443Z",
     "iopub.status.idle": "2022-09-26T06:54:34.281269Z",
     "shell.execute_reply": "2022-09-26T06:54:34.280864Z"
    },
    "id": "1Uc4pSoZgWZp",
    "outputId": "f0581266-24cf-43cf-eb1a-4c578fe4f68f",
    "papermill": {
     "duration": 1.753849,
     "end_time": "2022-09-26T06:54:34.282600",
     "exception": false,
     "start_time": "2022-09-26T06:54:32.528751",
     "status": "completed"
    },
    "tags": []
   },
   "outputs": [
    {
     "name": "stdout",
     "output_type": "stream",
     "text": [
      "\n"
     ]
    },
    {
     "name": "stdout",
     "output_type": "stream",
     "text": [
      "\n"
     ]
    },
    {
     "name": "stdout",
     "output_type": "stream",
     "text": [
      "\n"
     ]
    },
    {
     "data": {
      "text/plain": [
       "('../_data/_pretrain/tokenizer/tokenizer_config.json',\n",
       " '../_data/_pretrain/tokenizer/special_tokens_map.json',\n",
       " '../_data/_pretrain/tokenizer/vocab.txt',\n",
       " '../_data/_pretrain/tokenizer/added_tokens.json',\n",
       " '../_data/_pretrain/tokenizer/tokenizer.json')"
      ]
     },
     "execution_count": 5,
     "metadata": {},
     "output_type": "execute_result"
    }
   ],
   "source": [
    "from transformers import BertTokenizerFast\n",
    "\n",
    "vocab_size = 20_000\n",
    "tokenizer_output_dir = \"../_data/_pretrain/tokenizer\"\n",
    "\n",
    "tokenizer = (BertTokenizerFast\n",
    "                .from_pretrained(\"bert-base-cased\")\n",
    "                .train_new_from_iterator(wiki[\"text\"], vocab_size))\n",
    "\n",
    "tokenizer.save_pretrained(tokenizer_output_dir)"
   ]
  },
  {
   "cell_type": "code",
   "execution_count": 6,
   "id": "e2339d89",
   "metadata": {
    "colab": {
     "base_uri": "https://localhost:8080/",
     "height": 71
    },
    "execution": {
     "iopub.execute_input": "2022-09-26T06:54:34.290488Z",
     "iopub.status.busy": "2022-09-26T06:54:34.290318Z",
     "iopub.status.idle": "2022-09-26T06:54:34.292836Z",
     "shell.execute_reply": "2022-09-26T06:54:34.292451Z"
    },
    "id": "d28AlLL5gzcn",
    "outputId": "b6150344-3e2e-445a-93d4-f352e2b7756d",
    "papermill": {
     "duration": 0.00783,
     "end_time": "2022-09-26T06:54:34.294127",
     "exception": false,
     "start_time": "2022-09-26T06:54:34.286297",
     "status": "completed"
    },
    "tags": []
   },
   "outputs": [
    {
     "name": "stdout",
     "output_type": "stream",
     "text": [
      "{'input_ids': [2, 2291, 15948, 2073, 9946, 19614, 182, 3396, 6274, 6567, 205, 65, 9768, 241, 169, 13756, 205, 13402, 212, 8702, 6162, 18, 3], 'token_type_ids': [0, 0, 0, 0, 0, 0, 0, 0, 0, 0, 0, 0, 0, 0, 0, 0, 0, 0, 0, 0, 0, 0, 0], 'attention_mask': [1, 1, 1, 1, 1, 1, 1, 1, 1, 1, 1, 1, 1, 1, 1, 1, 1, 1, 1, 1, 1, 1, 1]}\n"
     ]
    }
   ],
   "source": [
    "example_encoding = tokenizer(example[\"text\"])\n",
    "print(example_encoding)"
   ]
  },
  {
   "cell_type": "code",
   "execution_count": 7,
   "id": "386dcf53",
   "metadata": {
    "colab": {
     "base_uri": "https://localhost:8080/",
     "height": 53
    },
    "execution": {
     "iopub.execute_input": "2022-09-26T06:54:34.301843Z",
     "iopub.status.busy": "2022-09-26T06:54:34.301693Z",
     "iopub.status.idle": "2022-09-26T06:54:34.604817Z",
     "shell.execute_reply": "2022-09-26T06:54:34.604504Z"
    },
    "id": "-V5EdDltg7oK",
    "outputId": "fd773b10-aca0-4238-9212-6fdc50103100",
    "papermill": {
     "duration": 0.308035,
     "end_time": "2022-09-26T06:54:34.605932",
     "exception": false,
     "start_time": "2022-09-26T06:54:34.297897",
     "status": "completed"
    },
    "tags": []
   },
   "outputs": [
    {
     "name": "stdout",
     "output_type": "stream",
     "text": [
      "[CLS] My ##eloid cell Nuclear Differ ##ent ##iation Anti ##gen is a protein that in humans is encoded as MNDA gene . [SEP]\n"
     ]
    },
    {
     "name": "stdout",
     "output_type": "stream",
     "text": [
      "[CLS] Myeloid cell Nuclear Differentiation Antigen is a protein that in humans is encoded as MNDA gene. [SEP]\n"
     ]
    }
   ],
   "source": [
    "print(\" \".join(tokenizer.convert_ids_to_tokens(example_encoding[\"input_ids\"])))\n",
    "print(tokenizer.decode(example_encoding[\"input_ids\"]))"
   ]
  },
  {
   "cell_type": "markdown",
   "id": "5a8fd9c8",
   "metadata": {
    "id": "krgDfWCoizGW",
    "papermill": {
     "duration": 0.003361,
     "end_time": "2022-09-26T06:54:34.612979",
     "exception": false,
     "start_time": "2022-09-26T06:54:34.609618",
     "status": "completed"
    },
    "tags": []
   },
   "source": [
    "## Run pretraining on one example"
   ]
  },
  {
   "cell_type": "code",
   "execution_count": 8,
   "id": "d6d2af31",
   "metadata": {
    "colab": {
     "base_uri": "https://localhost:8080/",
     "height": 85,
     "referenced_widgets": [
      "cf6542dc47b34db39644f550d7a02490",
      "67f61690d39e474ab17e3c0734bdf2c6",
      "0f99acddee06454bbb4cb01105b6468e",
      "7552ad048b2748c2b33da2973885c04d",
      "f3dc1883eed3487ba3ba0f10b3f7f27b",
      "b188eec0802247c4a0a7ddff6804b4f9",
      "0cc5a68873d94c8493239a3ea9631ab8",
      "abe809d0d00a46ad92e22b211cf5a9b3",
      "43b6eb996d9949b69d80518919323389",
      "ff3df9f5793e4792997c93e8840ce495",
      "244ad43d5a3d49d7abbf9a7733bd8609"
     ]
    },
    "execution": {
     "iopub.execute_input": "2022-09-26T06:54:34.620743Z",
     "iopub.status.busy": "2022-09-26T06:54:34.620574Z",
     "iopub.status.idle": "2022-09-26T06:54:34.650347Z",
     "shell.execute_reply": "2022-09-26T06:54:34.649957Z"
    },
    "id": "Xef4yXoslUmY",
    "outputId": "031d0468-83c6-405a-e283-dd09b3637bac",
    "papermill": {
     "duration": 0.03502,
     "end_time": "2022-09-26T06:54:34.651532",
     "exception": false,
     "start_time": "2022-09-26T06:54:34.616512",
     "status": "completed"
    },
    "tags": []
   },
   "outputs": [
    {
     "name": "stderr",
     "output_type": "stream",
     "text": [
      "num_proc must be <= 1. Reducing num_proc to 1 for dataset of size 1.\n"
     ]
    },
    {
     "data": {
      "application/vnd.jupyter.widget-view+json": {
       "model_id": "17f4896f4b6446f3a40e498f10a2d281",
       "version_major": 2,
       "version_minor": 0
      },
      "text/plain": [
       "  0%|          | 0/1 [00:00<?, ?ba/s]"
      ]
     },
     "metadata": {},
     "output_type": "display_data"
    },
    {
     "name": "stdout",
     "output_type": "stream",
     "text": [
      "[CLS] Myeloid cell Nuclear Differentiation Antigen is a protein that in humans is encoded as MNDA gene. [SEP]\n"
     ]
    }
   ],
   "source": [
    "tokenize_function = lambda examples: tokenizer(examples[\"text\"])\n",
    "\n",
    "tokenized_dataset = (wiki.select(range(1))\n",
    "                         .map(tokenize_function, \n",
    "                              batched = True, \n",
    "                              num_proc = 4, \n",
    "                              remove_columns = [\"text\", \"article_id\"]))\n",
    "\n",
    "print(tokenizer.decode(tokenized_dataset[0][\"input_ids\"]))"
   ]
  },
  {
   "cell_type": "code",
   "execution_count": 9,
   "id": "cd86a4df",
   "metadata": {
    "colab": {
     "base_uri": "https://localhost:8080/",
     "height": 565
    },
    "execution": {
     "iopub.execute_input": "2022-09-26T06:54:34.659782Z",
     "iopub.status.busy": "2022-09-26T06:54:34.659632Z",
     "iopub.status.idle": "2022-09-26T06:55:05.000733Z",
     "shell.execute_reply": "2022-09-26T06:55:05.000063Z"
    },
    "id": "EKNQouqSi1QS",
    "outputId": "0e854f27-8f7f-4948-8031-422d015fa3a0",
    "papermill": {
     "duration": 30.346716,
     "end_time": "2022-09-26T06:55:05.002123",
     "exception": false,
     "start_time": "2022-09-26T06:54:34.655407",
     "status": "completed"
    },
    "tags": []
   },
   "outputs": [
    {
     "name": "stderr",
     "output_type": "stream",
     "text": [
      "/Users/yenson/.mambaforge/envs/pii/lib/python3.10/site-packages/transformers/optimization.py:306: FutureWarning: This implementation of AdamW is deprecated and will be removed in a future version. Use the PyTorch implementation torch.optim.AdamW instead, or set `no_deprecation_warning=True` to disable this warning\n",
      "  warnings.warn(\n",
      "***** Running training *****\n"
     ]
    },
    {
     "name": "stderr",
     "output_type": "stream",
     "text": [
      "  Num examples = 1\n"
     ]
    },
    {
     "name": "stderr",
     "output_type": "stream",
     "text": [
      "  Num Epochs = 100\n"
     ]
    },
    {
     "name": "stderr",
     "output_type": "stream",
     "text": [
      "  Instantaneous batch size per device = 64\n"
     ]
    },
    {
     "name": "stderr",
     "output_type": "stream",
     "text": [
      "  Total train batch size (w. parallel, distributed & accumulation) = 64\n"
     ]
    },
    {
     "name": "stderr",
     "output_type": "stream",
     "text": [
      "  Gradient Accumulation steps = 1\n"
     ]
    },
    {
     "name": "stderr",
     "output_type": "stream",
     "text": [
      "  Total optimization steps = 100\n"
     ]
    },
    {
     "data": {
      "application/vnd.jupyter.widget-view+json": {
       "model_id": "d599e611bc6c4335a506e3f0cf05fa62",
       "version_major": 2,
       "version_minor": 0
      },
      "text/plain": [
       "  0%|          | 0/100 [00:00<?, ?it/s]"
      ]
     },
     "metadata": {},
     "output_type": "display_data"
    },
    {
     "name": "stderr",
     "output_type": "stream",
     "text": [
      "You're using a BertTokenizerFast tokenizer. Please note that with a fast tokenizer, using the `__call__` method is faster than using a method to encode the text followed by a call to the `pad` method to get a padded encoding.\n"
     ]
    },
    {
     "name": "stderr",
     "output_type": "stream",
     "text": [
      "\n",
      "\n",
      "Training completed. Do not forget to share your model on huggingface.co/models =)\n",
      "\n",
      "\n"
     ]
    },
    {
     "name": "stderr",
     "output_type": "stream",
     "text": [
      "Saving model checkpoint to ../_data/_pretrain/model\n"
     ]
    },
    {
     "name": "stderr",
     "output_type": "stream",
     "text": [
      "Configuration saved in ../_data/_pretrain/model/config.json\n"
     ]
    },
    {
     "name": "stdout",
     "output_type": "stream",
     "text": [
      "{'train_runtime': 26.3551, 'train_samples_per_second': 3.794, 'train_steps_per_second': 3.794, 'train_loss': 1.8065670776367186, 'epoch': 100.0}\n"
     ]
    },
    {
     "name": "stderr",
     "output_type": "stream",
     "text": [
      "Model weights saved in ../_data/_pretrain/model/pytorch_model.bin\n"
     ]
    }
   ],
   "source": [
    "from transformers import (BertConfig,\n",
    "                          BertForMaskedLM,\n",
    "                          DataCollatorForLanguageModeling,\n",
    "                          Trainer,\n",
    "                          TrainingArguments)\n",
    "\n",
    "# input 1: tokenizer\n",
    "data_collator = DataCollatorForLanguageModeling(tokenizer = tokenizer,\n",
    "                                                mlm_probability = 0.5)\n",
    "\n",
    "bert_config = BertConfig(vocab_size = tokenizer.vocab_size)\n",
    "\n",
    "model = BertForMaskedLM(config = bert_config)\n",
    "\n",
    "# input 2: tokenized_dataset\n",
    "num_train_epochs = 100\n",
    "pretrain_output_dir = \"../_data/_pretrain/model\"\n",
    "\n",
    "training_args = TrainingArguments(num_train_epochs = num_train_epochs,\n",
    "                                  per_device_train_batch_size = 64,\n",
    "                                  save_steps = 10_000,\n",
    "                                  save_total_limit = 2,\n",
    "                                  prediction_loss_only = True,\n",
    "                                  output_dir = pretrain_output_dir,\n",
    "                                  overwrite_output_dir = True)\n",
    "\n",
    "trainer = Trainer(model = model,\n",
    "                  args = training_args,\n",
    "                  data_collator = data_collator,\n",
    "                  train_dataset = tokenized_dataset)\n",
    "\n",
    "trainer.train()\n",
    "trainer.save_model(pretrain_output_dir)"
   ]
  },
  {
   "cell_type": "markdown",
   "id": "d3d50829",
   "metadata": {
    "id": "0Snn1ZtFl-Bq",
    "papermill": {
     "duration": 0.004009,
     "end_time": "2022-09-26T06:55:05.010507",
     "exception": false,
     "start_time": "2022-09-26T06:55:05.006498",
     "status": "completed"
    },
    "tags": []
   },
   "source": [
    "## Evaluation"
   ]
  },
  {
   "cell_type": "code",
   "execution_count": 10,
   "id": "07fd0c28",
   "metadata": {
    "colab": {
     "base_uri": "https://localhost:8080/",
     "height": 1000
    },
    "execution": {
     "iopub.execute_input": "2022-09-26T06:55:05.019583Z",
     "iopub.status.busy": "2022-09-26T06:55:05.019346Z",
     "iopub.status.idle": "2022-09-26T06:55:05.691432Z",
     "shell.execute_reply": "2022-09-26T06:55:05.690144Z"
    },
    "id": "cCAJLiVjmuOJ",
    "outputId": "92fa5c8a-3a24-48e1-c519-802980dc098f",
    "papermill": {
     "duration": 0.681702,
     "end_time": "2022-09-26T06:55:05.696464",
     "exception": false,
     "start_time": "2022-09-26T06:55:05.014762",
     "status": "completed"
    },
    "tags": []
   },
   "outputs": [
    {
     "name": "stderr",
     "output_type": "stream",
     "text": [
      "loading configuration file ../_data/_pretrain/model/config.json\n"
     ]
    },
    {
     "name": "stderr",
     "output_type": "stream",
     "text": [
      "Model config BertConfig {\n",
      "  \"_name_or_path\": \"../_data/_pretrain/model\",\n",
      "  \"architectures\": [\n",
      "    \"BertForMaskedLM\"\n",
      "  ],\n",
      "  \"attention_probs_dropout_prob\": 0.1,\n",
      "  \"classifier_dropout\": null,\n",
      "  \"hidden_act\": \"gelu\",\n",
      "  \"hidden_dropout_prob\": 0.1,\n",
      "  \"hidden_size\": 768,\n",
      "  \"initializer_range\": 0.02,\n",
      "  \"intermediate_size\": 3072,\n",
      "  \"layer_norm_eps\": 1e-12,\n",
      "  \"max_position_embeddings\": 512,\n",
      "  \"model_type\": \"bert\",\n",
      "  \"num_attention_heads\": 12,\n",
      "  \"num_hidden_layers\": 12,\n",
      "  \"pad_token_id\": 0,\n",
      "  \"position_embedding_type\": \"absolute\",\n",
      "  \"torch_dtype\": \"float32\",\n",
      "  \"transformers_version\": \"4.22.1\",\n",
      "  \"type_vocab_size\": 2,\n",
      "  \"use_cache\": true,\n",
      "  \"vocab_size\": 20000\n",
      "}\n",
      "\n"
     ]
    },
    {
     "name": "stderr",
     "output_type": "stream",
     "text": [
      "loading configuration file ../_data/_pretrain/model/config.json\n"
     ]
    },
    {
     "name": "stderr",
     "output_type": "stream",
     "text": [
      "Model config BertConfig {\n",
      "  \"_name_or_path\": \"../_data/_pretrain/model\",\n",
      "  \"architectures\": [\n",
      "    \"BertForMaskedLM\"\n",
      "  ],\n",
      "  \"attention_probs_dropout_prob\": 0.1,\n",
      "  \"classifier_dropout\": null,\n",
      "  \"hidden_act\": \"gelu\",\n",
      "  \"hidden_dropout_prob\": 0.1,\n",
      "  \"hidden_size\": 768,\n",
      "  \"initializer_range\": 0.02,\n",
      "  \"intermediate_size\": 3072,\n",
      "  \"layer_norm_eps\": 1e-12,\n",
      "  \"max_position_embeddings\": 512,\n",
      "  \"model_type\": \"bert\",\n",
      "  \"num_attention_heads\": 12,\n",
      "  \"num_hidden_layers\": 12,\n",
      "  \"pad_token_id\": 0,\n",
      "  \"position_embedding_type\": \"absolute\",\n",
      "  \"torch_dtype\": \"float32\",\n",
      "  \"transformers_version\": \"4.22.1\",\n",
      "  \"type_vocab_size\": 2,\n",
      "  \"use_cache\": true,\n",
      "  \"vocab_size\": 20000\n",
      "}\n",
      "\n"
     ]
    },
    {
     "name": "stderr",
     "output_type": "stream",
     "text": [
      "loading weights file ../_data/_pretrain/model/pytorch_model.bin\n"
     ]
    },
    {
     "name": "stderr",
     "output_type": "stream",
     "text": [
      "All model checkpoint weights were used when initializing BertForMaskedLM.\n",
      "\n"
     ]
    },
    {
     "name": "stderr",
     "output_type": "stream",
     "text": [
      "All the weights of BertForMaskedLM were initialized from the model checkpoint at ../_data/_pretrain/model.\n",
      "If your task is similar to the task the model of the checkpoint was trained on, you can already use BertForMaskedLM for predictions without further training.\n"
     ]
    },
    {
     "name": "stderr",
     "output_type": "stream",
     "text": [
      "loading file vocab.txt\n"
     ]
    },
    {
     "name": "stderr",
     "output_type": "stream",
     "text": [
      "loading file tokenizer.json\n"
     ]
    },
    {
     "name": "stderr",
     "output_type": "stream",
     "text": [
      "loading file added_tokens.json\n"
     ]
    },
    {
     "name": "stderr",
     "output_type": "stream",
     "text": [
      "loading file special_tokens_map.json\n"
     ]
    },
    {
     "name": "stderr",
     "output_type": "stream",
     "text": [
      "loading file tokenizer_config.json\n"
     ]
    }
   ],
   "source": [
    "from transformers import pipeline\n",
    "\n",
    "fill_mask = pipeline(\"fill-mask\",\n",
    "                     model = pretrain_output_dir,\n",
    "                     tokenizer = tokenizer_output_dir)"
   ]
  },
  {
   "cell_type": "code",
   "execution_count": 11,
   "id": "f7a3184d",
   "metadata": {
    "colab": {
     "base_uri": "https://localhost:8080/",
     "height": 380
    },
    "execution": {
     "iopub.execute_input": "2022-09-26T06:55:05.710338Z",
     "iopub.status.busy": "2022-09-26T06:55:05.710143Z",
     "iopub.status.idle": "2022-09-26T06:55:05.864240Z",
     "shell.execute_reply": "2022-09-26T06:55:05.862790Z"
    },
    "id": "pVx8kRuUmmjm",
    "outputId": "59c66939-3c0e-4b2c-b5f4-5b81fde883fc",
    "papermill": {
     "duration": 0.165684,
     "end_time": "2022-09-26T06:55:05.869075",
     "exception": false,
     "start_time": "2022-09-26T06:55:05.703391",
     "status": "completed"
    },
    "tags": []
   },
   "outputs": [
    {
     "data": {
      "text/plain": [
       "[{'score': 0.9725825190544128,\n",
       "  'token': 13402,\n",
       "  'token_str': 'encoded',\n",
       "  'sequence': 'Myeloid cell Nuclear Differentiation Antigen is a protein that in humans is encoded as MNDA gene.'},\n",
       " {'score': 1.790931128198281e-05,\n",
       "  'token': 6162,\n",
       "  'token_str': 'gene',\n",
       "  'sequence': 'Myeloid cell Nuclear Differentiation Antigen is a protein that in humans is gene as MNDA gene.'},\n",
       " {'score': 1.190628063341137e-05,\n",
       "  'token': 65,\n",
       "  'token_str': 'a',\n",
       "  'sequence': 'Myeloid cell Nuclear Differentiation Antigen is a protein that in humans is a as MNDA gene.'},\n",
       " {'score': 1.1821502994280308e-05,\n",
       "  'token': 648,\n",
       "  'token_str': '##ince',\n",
       "  'sequence': 'Myeloid cell Nuclear Differentiation Antigen is a protein that in humans isince as MNDA gene.'},\n",
       " {'score': 1.0303525414201431e-05,\n",
       "  'token': 1070,\n",
       "  'token_str': 'foot',\n",
       "  'sequence': 'Myeloid cell Nuclear Differentiation Antigen is a protein that in humans is foot as MNDA gene.'}]"
      ]
     },
     "execution_count": 11,
     "metadata": {},
     "output_type": "execute_result"
    }
   ],
   "source": [
    "# Myeloid cell Nuclear Differentiation Antigen is a protein that in humans is encoded as MNDA gene.\n",
    "\n",
    "fill_mask(\n",
    "    \"Myeloid cell Nuclear Differentiation Antigen is a protein that in humans is [MASK] as MNDA gene.\"\n",
    ")"
   ]
  },
  {
   "cell_type": "code",
   "execution_count": 12,
   "id": "6e1365ef",
   "metadata": {
    "colab": {
     "base_uri": "https://localhost:8080/",
     "height": 380
    },
    "execution": {
     "iopub.execute_input": "2022-09-26T06:55:05.883684Z",
     "iopub.status.busy": "2022-09-26T06:55:05.883480Z",
     "iopub.status.idle": "2022-09-26T06:55:05.937873Z",
     "shell.execute_reply": "2022-09-26T06:55:05.937187Z"
    },
    "id": "ny-MdUNInoAs",
    "outputId": "899bd56b-7ab6-4a5f-ee67-a4146f8fadb3",
    "papermill": {
     "duration": 0.063421,
     "end_time": "2022-09-26T06:55:05.940291",
     "exception": false,
     "start_time": "2022-09-26T06:55:05.876870",
     "status": "completed"
    },
    "tags": []
   },
   "outputs": [
    {
     "data": {
      "text/plain": [
       "[{'score': 0.9743815064430237,\n",
       "  'token': 19614,\n",
       "  'token_str': 'Differ',\n",
       "  'sequence': 'Myeloid cell Nuclear Differ Antigen is a protein that in humans is encoded as MNDA gene.'},\n",
       " {'score': 1.3961661352368537e-05,\n",
       "  'token': 13402,\n",
       "  'token_str': 'encoded',\n",
       "  'sequence': 'Myeloid cell Nuclear encoded Antigen is a protein that in humans is encoded as MNDA gene.'},\n",
       " {'score': 1.1701093171723187e-05,\n",
       "  'token': 13951,\n",
       "  'token_str': 'quantities',\n",
       "  'sequence': 'Myeloid cell Nuclear quantities Antigen is a protein that in humans is encoded as MNDA gene.'},\n",
       " {'score': 9.511587450106163e-06,\n",
       "  'token': 2291,\n",
       "  'token_str': 'My',\n",
       "  'sequence': 'Myeloid cell Nuclear My Antigen is a protein that in humans is encoded as MNDA gene.'},\n",
       " {'score': 9.252627933165058e-06,\n",
       "  'token': 16475,\n",
       "  'token_str': 'shops',\n",
       "  'sequence': 'Myeloid cell Nuclear shops Antigen is a protein that in humans is encoded as MNDA gene.'}]"
      ]
     },
     "execution_count": 12,
     "metadata": {},
     "output_type": "execute_result"
    }
   ],
   "source": [
    "# Myeloid cell Nuclear Differentiation Antigen is a protein that in humans is encoded as MNDA gene.\n",
    "\n",
    "fill_mask(\n",
    "    \"Myeloid cell Nuclear [MASK] Antigen is a protein that in humans is encoded as MNDA gene.\"\n",
    ")"
   ]
  },
  {
   "cell_type": "code",
   "execution_count": null,
   "id": "ccb69e9f",
   "metadata": {
    "id": "2K2cJJHgnyAV",
    "papermill": {
     "duration": 0.005729,
     "end_time": "2022-09-26T06:55:05.952331",
     "exception": false,
     "start_time": "2022-09-26T06:55:05.946602",
     "status": "completed"
    },
    "tags": []
   },
   "outputs": [],
   "source": []
  }
 ],
 "metadata": {
  "accelerator": "GPU",
  "colab": {
   "machine_shape": "hm",
   "provenance": []
  },
  "kernelspec": {
   "display_name": "Python 3.10.6 ('pii')",
   "language": "python",
   "name": "python3"
  },
  "language_info": {
   "codemirror_mode": {
    "name": "ipython",
    "version": 3
   },
   "file_extension": ".py",
   "mimetype": "text/x-python",
   "name": "python",
   "nbconvert_exporter": "python",
   "pygments_lexer": "ipython3",
   "version": "3.10.6"
  },
  "papermill": {
   "default_parameters": {},
   "duration": 37.660533,
   "end_time": "2022-09-26T06:55:08.600046",
   "environment_variables": {},
   "exception": null,
   "input_path": "pretrain_one_example.ipynb",
   "output_path": "pretrain_one_example_run.ipynb",
   "parameters": {},
   "start_time": "2022-09-26T06:54:30.939513",
   "version": "2.4.0"
  },
  "vscode": {
   "interpreter": {
    "hash": "9c6a09ae61f2c394f67ff51dc946b62f1df5f97b79879dc2b09d91cc9b837b3e"
   }
  },
  "widgets": {
   "application/vnd.jupyter.widget-state+json": {
    "state": {
     "01797590e8b3404aa7ac296b1fdf2a3a": {
      "model_module": "@jupyter-widgets/controls",
      "model_module_version": "1.5.0",
      "model_name": "DescriptionStyleModel",
      "state": {
       "_model_module": "@jupyter-widgets/controls",
       "_model_module_version": "1.5.0",
       "_model_name": "DescriptionStyleModel",
       "_view_count": null,
       "_view_module": "@jupyter-widgets/base",
       "_view_module_version": "1.2.0",
       "_view_name": "StyleView",
       "description_width": ""
      }
     },
     "0286f5982b0642f39bc3abeb786e7a20": {
      "model_module": "@jupyter-widgets/base",
      "model_module_version": "1.2.0",
      "model_name": "LayoutModel",
      "state": {
       "_model_module": "@jupyter-widgets/base",
       "_model_module_version": "1.2.0",
       "_model_name": "LayoutModel",
       "_view_count": null,
       "_view_module": "@jupyter-widgets/base",
       "_view_module_version": "1.2.0",
       "_view_name": "LayoutView",
       "align_content": null,
       "align_items": null,
       "align_self": null,
       "border": null,
       "bottom": null,
       "display": null,
       "flex": null,
       "flex_flow": null,
       "grid_area": null,
       "grid_auto_columns": null,
       "grid_auto_flow": null,
       "grid_auto_rows": null,
       "grid_column": null,
       "grid_gap": null,
       "grid_row": null,
       "grid_template_areas": null,
       "grid_template_columns": null,
       "grid_template_rows": null,
       "height": null,
       "justify_content": null,
       "justify_items": null,
       "left": null,
       "margin": null,
       "max_height": null,
       "max_width": null,
       "min_height": null,
       "min_width": null,
       "object_fit": null,
       "object_position": null,
       "order": null,
       "overflow": null,
       "overflow_x": null,
       "overflow_y": null,
       "padding": null,
       "right": null,
       "top": null,
       "visibility": null,
       "width": null
      }
     },
     "073427f6fd3c4a8fa34e8119568c8796": {
      "model_module": "@jupyter-widgets/base",
      "model_module_version": "1.2.0",
      "model_name": "LayoutModel",
      "state": {
       "_model_module": "@jupyter-widgets/base",
       "_model_module_version": "1.2.0",
       "_model_name": "LayoutModel",
       "_view_count": null,
       "_view_module": "@jupyter-widgets/base",
       "_view_module_version": "1.2.0",
       "_view_name": "LayoutView",
       "align_content": null,
       "align_items": null,
       "align_self": null,
       "border": null,
       "bottom": null,
       "display": null,
       "flex": null,
       "flex_flow": null,
       "grid_area": null,
       "grid_auto_columns": null,
       "grid_auto_flow": null,
       "grid_auto_rows": null,
       "grid_column": null,
       "grid_gap": null,
       "grid_row": null,
       "grid_template_areas": null,
       "grid_template_columns": null,
       "grid_template_rows": null,
       "height": null,
       "justify_content": null,
       "justify_items": null,
       "left": null,
       "margin": null,
       "max_height": null,
       "max_width": null,
       "min_height": null,
       "min_width": null,
       "object_fit": null,
       "object_position": null,
       "order": null,
       "overflow": null,
       "overflow_x": null,
       "overflow_y": null,
       "padding": null,
       "right": null,
       "top": null,
       "visibility": null,
       "width": null
      }
     },
     "11ed1e399c6e4c18bf87ee4e29bdb88c": {
      "model_module": "@jupyter-widgets/controls",
      "model_module_version": "1.5.0",
      "model_name": "HBoxModel",
      "state": {
       "_dom_classes": [],
       "_model_module": "@jupyter-widgets/controls",
       "_model_module_version": "1.5.0",
       "_model_name": "HBoxModel",
       "_view_count": null,
       "_view_module": "@jupyter-widgets/controls",
       "_view_module_version": "1.5.0",
       "_view_name": "HBoxView",
       "box_style": "",
       "children": [
        "IPY_MODEL_d2b40f85619a454ea59e42fd62b04a75",
        "IPY_MODEL_d4e80f2c745a4e13b2902ee9ab23cd3a",
        "IPY_MODEL_22bb337d1807441c93f0f73dda5e3587"
       ],
       "layout": "IPY_MODEL_0286f5982b0642f39bc3abeb786e7a20"
      }
     },
     "17f4896f4b6446f3a40e498f10a2d281": {
      "model_module": "@jupyter-widgets/controls",
      "model_module_version": "1.5.0",
      "model_name": "HBoxModel",
      "state": {
       "_dom_classes": [],
       "_model_module": "@jupyter-widgets/controls",
       "_model_module_version": "1.5.0",
       "_model_name": "HBoxModel",
       "_view_count": null,
       "_view_module": "@jupyter-widgets/controls",
       "_view_module_version": "1.5.0",
       "_view_name": "HBoxView",
       "box_style": "",
       "children": [
        "IPY_MODEL_4541bd41585c42fab46cf50d44121dbc",
        "IPY_MODEL_3607ba5a202a48cdbcfa6ae232da3ace",
        "IPY_MODEL_287b879e4f42422a9f62a5d6c00b7aac"
       ],
       "layout": "IPY_MODEL_4414b6f9667d41a69871ca352d44ab06"
      }
     },
     "22bb337d1807441c93f0f73dda5e3587": {
      "model_module": "@jupyter-widgets/controls",
      "model_module_version": "1.5.0",
      "model_name": "HTMLModel",
      "state": {
       "_dom_classes": [],
       "_model_module": "@jupyter-widgets/controls",
       "_model_module_version": "1.5.0",
       "_model_name": "HTMLModel",
       "_view_count": null,
       "_view_module": "@jupyter-widgets/controls",
       "_view_module_version": "1.5.0",
       "_view_name": "HTMLView",
       "description": "",
       "description_tooltip": null,
       "layout": "IPY_MODEL_6b65641272c54ec3a9f3f560d11b93c6",
       "placeholder": "​",
       "style": "IPY_MODEL_f048530877db43a3bd618e88893ede76",
       "value": " 1/1 [00:00&lt;00:00, 84.99it/s]"
      }
     },
     "287b879e4f42422a9f62a5d6c00b7aac": {
      "model_module": "@jupyter-widgets/controls",
      "model_module_version": "1.5.0",
      "model_name": "HTMLModel",
      "state": {
       "_dom_classes": [],
       "_model_module": "@jupyter-widgets/controls",
       "_model_module_version": "1.5.0",
       "_model_name": "HTMLModel",
       "_view_count": null,
       "_view_module": "@jupyter-widgets/controls",
       "_view_module_version": "1.5.0",
       "_view_name": "HTMLView",
       "description": "",
       "description_tooltip": null,
       "layout": "IPY_MODEL_8b32a47ae31941bc88d09e5413659261",
       "placeholder": "​",
       "style": "IPY_MODEL_4c3693540c2d42c9af5068462903928e",
       "value": " 1/1 [00:00&lt;00:00, 62.77ba/s]"
      }
     },
     "3607ba5a202a48cdbcfa6ae232da3ace": {
      "model_module": "@jupyter-widgets/controls",
      "model_module_version": "1.5.0",
      "model_name": "FloatProgressModel",
      "state": {
       "_dom_classes": [],
       "_model_module": "@jupyter-widgets/controls",
       "_model_module_version": "1.5.0",
       "_model_name": "FloatProgressModel",
       "_view_count": null,
       "_view_module": "@jupyter-widgets/controls",
       "_view_module_version": "1.5.0",
       "_view_name": "ProgressView",
       "bar_style": "success",
       "description": "",
       "description_tooltip": null,
       "layout": "IPY_MODEL_6e950c3bae7e42c082efab4d924ccb64",
       "max": 1.0,
       "min": 0.0,
       "orientation": "horizontal",
       "style": "IPY_MODEL_adc4f17526ba4e2a96f63319ab381e9a",
       "value": 1.0
      }
     },
     "3f6a8db444ee49259c74eff59747b33c": {
      "model_module": "@jupyter-widgets/controls",
      "model_module_version": "1.5.0",
      "model_name": "HTMLModel",
      "state": {
       "_dom_classes": [],
       "_model_module": "@jupyter-widgets/controls",
       "_model_module_version": "1.5.0",
       "_model_name": "HTMLModel",
       "_view_count": null,
       "_view_module": "@jupyter-widgets/controls",
       "_view_module_version": "1.5.0",
       "_view_name": "HTMLView",
       "description": "",
       "description_tooltip": null,
       "layout": "IPY_MODEL_d7696e57812349489d63c2b1e538094e",
       "placeholder": "​",
       "style": "IPY_MODEL_f01d477cebb44ac4b9adcc353beb3905",
       "value": "100%"
      }
     },
     "3f90ca6e70ab460cb907a2082affeb2a": {
      "model_module": "@jupyter-widgets/base",
      "model_module_version": "1.2.0",
      "model_name": "LayoutModel",
      "state": {
       "_model_module": "@jupyter-widgets/base",
       "_model_module_version": "1.2.0",
       "_model_name": "LayoutModel",
       "_view_count": null,
       "_view_module": "@jupyter-widgets/base",
       "_view_module_version": "1.2.0",
       "_view_name": "LayoutView",
       "align_content": null,
       "align_items": null,
       "align_self": null,
       "border": null,
       "bottom": null,
       "display": null,
       "flex": null,
       "flex_flow": null,
       "grid_area": null,
       "grid_auto_columns": null,
       "grid_auto_flow": null,
       "grid_auto_rows": null,
       "grid_column": null,
       "grid_gap": null,
       "grid_row": null,
       "grid_template_areas": null,
       "grid_template_columns": null,
       "grid_template_rows": null,
       "height": null,
       "justify_content": null,
       "justify_items": null,
       "left": null,
       "margin": null,
       "max_height": null,
       "max_width": null,
       "min_height": null,
       "min_width": null,
       "object_fit": null,
       "object_position": null,
       "order": null,
       "overflow": null,
       "overflow_x": null,
       "overflow_y": null,
       "padding": null,
       "right": null,
       "top": null,
       "visibility": null,
       "width": null
      }
     },
     "42bb3849ab7b41c6a770ed2d7cfb1b9b": {
      "model_module": "@jupyter-widgets/controls",
      "model_module_version": "1.5.0",
      "model_name": "FloatProgressModel",
      "state": {
       "_dom_classes": [],
       "_model_module": "@jupyter-widgets/controls",
       "_model_module_version": "1.5.0",
       "_model_name": "FloatProgressModel",
       "_view_count": null,
       "_view_module": "@jupyter-widgets/controls",
       "_view_module_version": "1.5.0",
       "_view_name": "ProgressView",
       "bar_style": "success",
       "description": "",
       "description_tooltip": null,
       "layout": "IPY_MODEL_8ffb3d690802466798b18ea930a24eb6",
       "max": 100.0,
       "min": 0.0,
       "orientation": "horizontal",
       "style": "IPY_MODEL_4b4aa288f66246f18d8471bd75d7d3ec",
       "value": 100.0
      }
     },
     "4414b6f9667d41a69871ca352d44ab06": {
      "model_module": "@jupyter-widgets/base",
      "model_module_version": "1.2.0",
      "model_name": "LayoutModel",
      "state": {
       "_model_module": "@jupyter-widgets/base",
       "_model_module_version": "1.2.0",
       "_model_name": "LayoutModel",
       "_view_count": null,
       "_view_module": "@jupyter-widgets/base",
       "_view_module_version": "1.2.0",
       "_view_name": "LayoutView",
       "align_content": null,
       "align_items": null,
       "align_self": null,
       "border": null,
       "bottom": null,
       "display": null,
       "flex": null,
       "flex_flow": null,
       "grid_area": null,
       "grid_auto_columns": null,
       "grid_auto_flow": null,
       "grid_auto_rows": null,
       "grid_column": null,
       "grid_gap": null,
       "grid_row": null,
       "grid_template_areas": null,
       "grid_template_columns": null,
       "grid_template_rows": null,
       "height": null,
       "justify_content": null,
       "justify_items": null,
       "left": null,
       "margin": null,
       "max_height": null,
       "max_width": null,
       "min_height": null,
       "min_width": null,
       "object_fit": null,
       "object_position": null,
       "order": null,
       "overflow": null,
       "overflow_x": null,
       "overflow_y": null,
       "padding": null,
       "right": null,
       "top": null,
       "visibility": null,
       "width": null
      }
     },
     "450eeab290704b2895abad4667471364": {
      "model_module": "@jupyter-widgets/base",
      "model_module_version": "1.2.0",
      "model_name": "LayoutModel",
      "state": {
       "_model_module": "@jupyter-widgets/base",
       "_model_module_version": "1.2.0",
       "_model_name": "LayoutModel",
       "_view_count": null,
       "_view_module": "@jupyter-widgets/base",
       "_view_module_version": "1.2.0",
       "_view_name": "LayoutView",
       "align_content": null,
       "align_items": null,
       "align_self": null,
       "border": null,
       "bottom": null,
       "display": null,
       "flex": null,
       "flex_flow": null,
       "grid_area": null,
       "grid_auto_columns": null,
       "grid_auto_flow": null,
       "grid_auto_rows": null,
       "grid_column": null,
       "grid_gap": null,
       "grid_row": null,
       "grid_template_areas": null,
       "grid_template_columns": null,
       "grid_template_rows": null,
       "height": null,
       "justify_content": null,
       "justify_items": null,
       "left": null,
       "margin": null,
       "max_height": null,
       "max_width": null,
       "min_height": null,
       "min_width": null,
       "object_fit": null,
       "object_position": null,
       "order": null,
       "overflow": null,
       "overflow_x": null,
       "overflow_y": null,
       "padding": null,
       "right": null,
       "top": null,
       "visibility": null,
       "width": null
      }
     },
     "4541bd41585c42fab46cf50d44121dbc": {
      "model_module": "@jupyter-widgets/controls",
      "model_module_version": "1.5.0",
      "model_name": "HTMLModel",
      "state": {
       "_dom_classes": [],
       "_model_module": "@jupyter-widgets/controls",
       "_model_module_version": "1.5.0",
       "_model_name": "HTMLModel",
       "_view_count": null,
       "_view_module": "@jupyter-widgets/controls",
       "_view_module_version": "1.5.0",
       "_view_name": "HTMLView",
       "description": "",
       "description_tooltip": null,
       "layout": "IPY_MODEL_3f90ca6e70ab460cb907a2082affeb2a",
       "placeholder": "​",
       "style": "IPY_MODEL_01797590e8b3404aa7ac296b1fdf2a3a",
       "value": "100%"
      }
     },
     "4b4aa288f66246f18d8471bd75d7d3ec": {
      "model_module": "@jupyter-widgets/controls",
      "model_module_version": "1.5.0",
      "model_name": "ProgressStyleModel",
      "state": {
       "_model_module": "@jupyter-widgets/controls",
       "_model_module_version": "1.5.0",
       "_model_name": "ProgressStyleModel",
       "_view_count": null,
       "_view_module": "@jupyter-widgets/base",
       "_view_module_version": "1.2.0",
       "_view_name": "StyleView",
       "bar_color": null,
       "description_width": ""
      }
     },
     "4c3693540c2d42c9af5068462903928e": {
      "model_module": "@jupyter-widgets/controls",
      "model_module_version": "1.5.0",
      "model_name": "DescriptionStyleModel",
      "state": {
       "_model_module": "@jupyter-widgets/controls",
       "_model_module_version": "1.5.0",
       "_model_name": "DescriptionStyleModel",
       "_view_count": null,
       "_view_module": "@jupyter-widgets/base",
       "_view_module_version": "1.2.0",
       "_view_name": "StyleView",
       "description_width": ""
      }
     },
     "6b65641272c54ec3a9f3f560d11b93c6": {
      "model_module": "@jupyter-widgets/base",
      "model_module_version": "1.2.0",
      "model_name": "LayoutModel",
      "state": {
       "_model_module": "@jupyter-widgets/base",
       "_model_module_version": "1.2.0",
       "_model_name": "LayoutModel",
       "_view_count": null,
       "_view_module": "@jupyter-widgets/base",
       "_view_module_version": "1.2.0",
       "_view_name": "LayoutView",
       "align_content": null,
       "align_items": null,
       "align_self": null,
       "border": null,
       "bottom": null,
       "display": null,
       "flex": null,
       "flex_flow": null,
       "grid_area": null,
       "grid_auto_columns": null,
       "grid_auto_flow": null,
       "grid_auto_rows": null,
       "grid_column": null,
       "grid_gap": null,
       "grid_row": null,
       "grid_template_areas": null,
       "grid_template_columns": null,
       "grid_template_rows": null,
       "height": null,
       "justify_content": null,
       "justify_items": null,
       "left": null,
       "margin": null,
       "max_height": null,
       "max_width": null,
       "min_height": null,
       "min_width": null,
       "object_fit": null,
       "object_position": null,
       "order": null,
       "overflow": null,
       "overflow_x": null,
       "overflow_y": null,
       "padding": null,
       "right": null,
       "top": null,
       "visibility": null,
       "width": null
      }
     },
     "6e950c3bae7e42c082efab4d924ccb64": {
      "model_module": "@jupyter-widgets/base",
      "model_module_version": "1.2.0",
      "model_name": "LayoutModel",
      "state": {
       "_model_module": "@jupyter-widgets/base",
       "_model_module_version": "1.2.0",
       "_model_name": "LayoutModel",
       "_view_count": null,
       "_view_module": "@jupyter-widgets/base",
       "_view_module_version": "1.2.0",
       "_view_name": "LayoutView",
       "align_content": null,
       "align_items": null,
       "align_self": null,
       "border": null,
       "bottom": null,
       "display": null,
       "flex": null,
       "flex_flow": null,
       "grid_area": null,
       "grid_auto_columns": null,
       "grid_auto_flow": null,
       "grid_auto_rows": null,
       "grid_column": null,
       "grid_gap": null,
       "grid_row": null,
       "grid_template_areas": null,
       "grid_template_columns": null,
       "grid_template_rows": null,
       "height": null,
       "justify_content": null,
       "justify_items": null,
       "left": null,
       "margin": null,
       "max_height": null,
       "max_width": null,
       "min_height": null,
       "min_width": null,
       "object_fit": null,
       "object_position": null,
       "order": null,
       "overflow": null,
       "overflow_x": null,
       "overflow_y": null,
       "padding": null,
       "right": null,
       "top": null,
       "visibility": null,
       "width": null
      }
     },
     "86b660412a7042148afe84757cb5cea7": {
      "model_module": "@jupyter-widgets/base",
      "model_module_version": "1.2.0",
      "model_name": "LayoutModel",
      "state": {
       "_model_module": "@jupyter-widgets/base",
       "_model_module_version": "1.2.0",
       "_model_name": "LayoutModel",
       "_view_count": null,
       "_view_module": "@jupyter-widgets/base",
       "_view_module_version": "1.2.0",
       "_view_name": "LayoutView",
       "align_content": null,
       "align_items": null,
       "align_self": null,
       "border": null,
       "bottom": null,
       "display": null,
       "flex": null,
       "flex_flow": null,
       "grid_area": null,
       "grid_auto_columns": null,
       "grid_auto_flow": null,
       "grid_auto_rows": null,
       "grid_column": null,
       "grid_gap": null,
       "grid_row": null,
       "grid_template_areas": null,
       "grid_template_columns": null,
       "grid_template_rows": null,
       "height": null,
       "justify_content": null,
       "justify_items": null,
       "left": null,
       "margin": null,
       "max_height": null,
       "max_width": null,
       "min_height": null,
       "min_width": null,
       "object_fit": null,
       "object_position": null,
       "order": null,
       "overflow": null,
       "overflow_x": null,
       "overflow_y": null,
       "padding": null,
       "right": null,
       "top": null,
       "visibility": null,
       "width": null
      }
     },
     "89a20c879e994a83a4db18f39bd69f29": {
      "model_module": "@jupyter-widgets/controls",
      "model_module_version": "1.5.0",
      "model_name": "HTMLModel",
      "state": {
       "_dom_classes": [],
       "_model_module": "@jupyter-widgets/controls",
       "_model_module_version": "1.5.0",
       "_model_name": "HTMLModel",
       "_view_count": null,
       "_view_module": "@jupyter-widgets/controls",
       "_view_module_version": "1.5.0",
       "_view_name": "HTMLView",
       "description": "",
       "description_tooltip": null,
       "layout": "IPY_MODEL_073427f6fd3c4a8fa34e8119568c8796",
       "placeholder": "​",
       "style": "IPY_MODEL_9cfd3d70e3ab407b97c6e0f1331a640c",
       "value": " 100/100 [00:26&lt;00:00,  3.81it/s]"
      }
     },
     "8b32a47ae31941bc88d09e5413659261": {
      "model_module": "@jupyter-widgets/base",
      "model_module_version": "1.2.0",
      "model_name": "LayoutModel",
      "state": {
       "_model_module": "@jupyter-widgets/base",
       "_model_module_version": "1.2.0",
       "_model_name": "LayoutModel",
       "_view_count": null,
       "_view_module": "@jupyter-widgets/base",
       "_view_module_version": "1.2.0",
       "_view_name": "LayoutView",
       "align_content": null,
       "align_items": null,
       "align_self": null,
       "border": null,
       "bottom": null,
       "display": null,
       "flex": null,
       "flex_flow": null,
       "grid_area": null,
       "grid_auto_columns": null,
       "grid_auto_flow": null,
       "grid_auto_rows": null,
       "grid_column": null,
       "grid_gap": null,
       "grid_row": null,
       "grid_template_areas": null,
       "grid_template_columns": null,
       "grid_template_rows": null,
       "height": null,
       "justify_content": null,
       "justify_items": null,
       "left": null,
       "margin": null,
       "max_height": null,
       "max_width": null,
       "min_height": null,
       "min_width": null,
       "object_fit": null,
       "object_position": null,
       "order": null,
       "overflow": null,
       "overflow_x": null,
       "overflow_y": null,
       "padding": null,
       "right": null,
       "top": null,
       "visibility": null,
       "width": null
      }
     },
     "8ffb3d690802466798b18ea930a24eb6": {
      "model_module": "@jupyter-widgets/base",
      "model_module_version": "1.2.0",
      "model_name": "LayoutModel",
      "state": {
       "_model_module": "@jupyter-widgets/base",
       "_model_module_version": "1.2.0",
       "_model_name": "LayoutModel",
       "_view_count": null,
       "_view_module": "@jupyter-widgets/base",
       "_view_module_version": "1.2.0",
       "_view_name": "LayoutView",
       "align_content": null,
       "align_items": null,
       "align_self": null,
       "border": null,
       "bottom": null,
       "display": null,
       "flex": null,
       "flex_flow": null,
       "grid_area": null,
       "grid_auto_columns": null,
       "grid_auto_flow": null,
       "grid_auto_rows": null,
       "grid_column": null,
       "grid_gap": null,
       "grid_row": null,
       "grid_template_areas": null,
       "grid_template_columns": null,
       "grid_template_rows": null,
       "height": null,
       "justify_content": null,
       "justify_items": null,
       "left": null,
       "margin": null,
       "max_height": null,
       "max_width": null,
       "min_height": null,
       "min_width": null,
       "object_fit": null,
       "object_position": null,
       "order": null,
       "overflow": null,
       "overflow_x": null,
       "overflow_y": null,
       "padding": null,
       "right": null,
       "top": null,
       "visibility": null,
       "width": null
      }
     },
     "9cfd3d70e3ab407b97c6e0f1331a640c": {
      "model_module": "@jupyter-widgets/controls",
      "model_module_version": "1.5.0",
      "model_name": "DescriptionStyleModel",
      "state": {
       "_model_module": "@jupyter-widgets/controls",
       "_model_module_version": "1.5.0",
       "_model_name": "DescriptionStyleModel",
       "_view_count": null,
       "_view_module": "@jupyter-widgets/base",
       "_view_module_version": "1.2.0",
       "_view_name": "StyleView",
       "description_width": ""
      }
     },
     "a3313b935aff4d6586c4a9efb7014ddb": {
      "model_module": "@jupyter-widgets/controls",
      "model_module_version": "1.5.0",
      "model_name": "DescriptionStyleModel",
      "state": {
       "_model_module": "@jupyter-widgets/controls",
       "_model_module_version": "1.5.0",
       "_model_name": "DescriptionStyleModel",
       "_view_count": null,
       "_view_module": "@jupyter-widgets/base",
       "_view_module_version": "1.2.0",
       "_view_name": "StyleView",
       "description_width": ""
      }
     },
     "adc4f17526ba4e2a96f63319ab381e9a": {
      "model_module": "@jupyter-widgets/controls",
      "model_module_version": "1.5.0",
      "model_name": "ProgressStyleModel",
      "state": {
       "_model_module": "@jupyter-widgets/controls",
       "_model_module_version": "1.5.0",
       "_model_name": "ProgressStyleModel",
       "_view_count": null,
       "_view_module": "@jupyter-widgets/base",
       "_view_module_version": "1.2.0",
       "_view_name": "StyleView",
       "bar_color": null,
       "description_width": ""
      }
     },
     "b803b0bd55d24005af45a67695b6312e": {
      "model_module": "@jupyter-widgets/base",
      "model_module_version": "1.2.0",
      "model_name": "LayoutModel",
      "state": {
       "_model_module": "@jupyter-widgets/base",
       "_model_module_version": "1.2.0",
       "_model_name": "LayoutModel",
       "_view_count": null,
       "_view_module": "@jupyter-widgets/base",
       "_view_module_version": "1.2.0",
       "_view_name": "LayoutView",
       "align_content": null,
       "align_items": null,
       "align_self": null,
       "border": null,
       "bottom": null,
       "display": null,
       "flex": null,
       "flex_flow": null,
       "grid_area": null,
       "grid_auto_columns": null,
       "grid_auto_flow": null,
       "grid_auto_rows": null,
       "grid_column": null,
       "grid_gap": null,
       "grid_row": null,
       "grid_template_areas": null,
       "grid_template_columns": null,
       "grid_template_rows": null,
       "height": null,
       "justify_content": null,
       "justify_items": null,
       "left": null,
       "margin": null,
       "max_height": null,
       "max_width": null,
       "min_height": null,
       "min_width": null,
       "object_fit": null,
       "object_position": null,
       "order": null,
       "overflow": null,
       "overflow_x": null,
       "overflow_y": null,
       "padding": null,
       "right": null,
       "top": null,
       "visibility": null,
       "width": null
      }
     },
     "d2b40f85619a454ea59e42fd62b04a75": {
      "model_module": "@jupyter-widgets/controls",
      "model_module_version": "1.5.0",
      "model_name": "HTMLModel",
      "state": {
       "_dom_classes": [],
       "_model_module": "@jupyter-widgets/controls",
       "_model_module_version": "1.5.0",
       "_model_name": "HTMLModel",
       "_view_count": null,
       "_view_module": "@jupyter-widgets/controls",
       "_view_module_version": "1.5.0",
       "_view_name": "HTMLView",
       "description": "",
       "description_tooltip": null,
       "layout": "IPY_MODEL_b803b0bd55d24005af45a67695b6312e",
       "placeholder": "​",
       "style": "IPY_MODEL_a3313b935aff4d6586c4a9efb7014ddb",
       "value": "100%"
      }
     },
     "d4e80f2c745a4e13b2902ee9ab23cd3a": {
      "model_module": "@jupyter-widgets/controls",
      "model_module_version": "1.5.0",
      "model_name": "FloatProgressModel",
      "state": {
       "_dom_classes": [],
       "_model_module": "@jupyter-widgets/controls",
       "_model_module_version": "1.5.0",
       "_model_name": "FloatProgressModel",
       "_view_count": null,
       "_view_module": "@jupyter-widgets/controls",
       "_view_module_version": "1.5.0",
       "_view_name": "ProgressView",
       "bar_style": "success",
       "description": "",
       "description_tooltip": null,
       "layout": "IPY_MODEL_450eeab290704b2895abad4667471364",
       "max": 1.0,
       "min": 0.0,
       "orientation": "horizontal",
       "style": "IPY_MODEL_f1241cbec35e4f399fed43eb108aa7ab",
       "value": 1.0
      }
     },
     "d599e611bc6c4335a506e3f0cf05fa62": {
      "model_module": "@jupyter-widgets/controls",
      "model_module_version": "1.5.0",
      "model_name": "HBoxModel",
      "state": {
       "_dom_classes": [],
       "_model_module": "@jupyter-widgets/controls",
       "_model_module_version": "1.5.0",
       "_model_name": "HBoxModel",
       "_view_count": null,
       "_view_module": "@jupyter-widgets/controls",
       "_view_module_version": "1.5.0",
       "_view_name": "HBoxView",
       "box_style": "",
       "children": [
        "IPY_MODEL_3f6a8db444ee49259c74eff59747b33c",
        "IPY_MODEL_42bb3849ab7b41c6a770ed2d7cfb1b9b",
        "IPY_MODEL_89a20c879e994a83a4db18f39bd69f29"
       ],
       "layout": "IPY_MODEL_86b660412a7042148afe84757cb5cea7"
      }
     },
     "d7696e57812349489d63c2b1e538094e": {
      "model_module": "@jupyter-widgets/base",
      "model_module_version": "1.2.0",
      "model_name": "LayoutModel",
      "state": {
       "_model_module": "@jupyter-widgets/base",
       "_model_module_version": "1.2.0",
       "_model_name": "LayoutModel",
       "_view_count": null,
       "_view_module": "@jupyter-widgets/base",
       "_view_module_version": "1.2.0",
       "_view_name": "LayoutView",
       "align_content": null,
       "align_items": null,
       "align_self": null,
       "border": null,
       "bottom": null,
       "display": null,
       "flex": null,
       "flex_flow": null,
       "grid_area": null,
       "grid_auto_columns": null,
       "grid_auto_flow": null,
       "grid_auto_rows": null,
       "grid_column": null,
       "grid_gap": null,
       "grid_row": null,
       "grid_template_areas": null,
       "grid_template_columns": null,
       "grid_template_rows": null,
       "height": null,
       "justify_content": null,
       "justify_items": null,
       "left": null,
       "margin": null,
       "max_height": null,
       "max_width": null,
       "min_height": null,
       "min_width": null,
       "object_fit": null,
       "object_position": null,
       "order": null,
       "overflow": null,
       "overflow_x": null,
       "overflow_y": null,
       "padding": null,
       "right": null,
       "top": null,
       "visibility": null,
       "width": null
      }
     },
     "f01d477cebb44ac4b9adcc353beb3905": {
      "model_module": "@jupyter-widgets/controls",
      "model_module_version": "1.5.0",
      "model_name": "DescriptionStyleModel",
      "state": {
       "_model_module": "@jupyter-widgets/controls",
       "_model_module_version": "1.5.0",
       "_model_name": "DescriptionStyleModel",
       "_view_count": null,
       "_view_module": "@jupyter-widgets/base",
       "_view_module_version": "1.2.0",
       "_view_name": "StyleView",
       "description_width": ""
      }
     },
     "f048530877db43a3bd618e88893ede76": {
      "model_module": "@jupyter-widgets/controls",
      "model_module_version": "1.5.0",
      "model_name": "DescriptionStyleModel",
      "state": {
       "_model_module": "@jupyter-widgets/controls",
       "_model_module_version": "1.5.0",
       "_model_name": "DescriptionStyleModel",
       "_view_count": null,
       "_view_module": "@jupyter-widgets/base",
       "_view_module_version": "1.2.0",
       "_view_name": "StyleView",
       "description_width": ""
      }
     },
     "f1241cbec35e4f399fed43eb108aa7ab": {
      "model_module": "@jupyter-widgets/controls",
      "model_module_version": "1.5.0",
      "model_name": "ProgressStyleModel",
      "state": {
       "_model_module": "@jupyter-widgets/controls",
       "_model_module_version": "1.5.0",
       "_model_name": "ProgressStyleModel",
       "_view_count": null,
       "_view_module": "@jupyter-widgets/base",
       "_view_module_version": "1.2.0",
       "_view_name": "StyleView",
       "bar_color": null,
       "description_width": ""
      }
     }
    },
    "version_major": 2,
    "version_minor": 0
   }
  }
 },
 "nbformat": 4,
 "nbformat_minor": 5
}