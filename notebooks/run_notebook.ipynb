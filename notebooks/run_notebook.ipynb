{
 "cells": [
  {
   "cell_type": "code",
   "execution_count": null,
   "metadata": {},
   "outputs": [],
   "source": [
    "import logging\n",
    "import papermill as pm\n",
    "import scrapbook as sb\n",
    "import sys\n",
    "import time\n",
    "from os import path\n",
    "\n",
    "def execute_notebook(input_nb, output_nb, **params):\n",
    "    pm.execute_notebook(\n",
    "        input_nb,\n",
    "        output_nb,\n",
    "        params,\n",
    "        log_output=True,\n",
    "        stdout_file=sys.stdout,\n",
    "        stderr_file=sys.stderr,\n",
    "        progress_bar=False\n",
    "    );\n",
    "\n",
    "    return sb.read_notebook(output_nb)\n",
    "\n",
    "nb = execute_notebook(\"../eval_pii_remediation/pretrain.ipynb\",\n",
    "                      \"pretrain_test_run.ipynb\", \n",
    "                      _pm_log_sections=True)\n"
   ]
  }
 ],
 "metadata": {
  "kernelspec": {
   "display_name": "Python 3.10.6 ('pii')",
   "language": "python",
   "name": "python3"
  },
  "language_info": {
   "codemirror_mode": {
    "name": "ipython",
    "version": 3
   },
   "file_extension": ".py",
   "mimetype": "text/x-python",
   "name": "python",
   "nbconvert_exporter": "python",
   "pygments_lexer": "ipython3",
   "version": "3.10.6"
  },
  "orig_nbformat": 4,
  "vscode": {
   "interpreter": {
    "hash": "9c6a09ae61f2c394f67ff51dc946b62f1df5f97b79879dc2b09d91cc9b837b3e"
   }
  }
 },
 "nbformat": 4,
 "nbformat_minor": 2
}
