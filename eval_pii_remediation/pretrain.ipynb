{
 "cells": [
  {
   "cell_type": "markdown",
   "metadata": {},
   "source": [
    "# Setup"
   ]
  },
  {
   "cell_type": "code",
   "execution_count": 1,
   "metadata": {},
   "outputs": [],
   "source": [
    "from os import path\n",
    "from typing import Optional\n",
    "\n",
    "__DIR__ = globals()['_dh'][0]\n",
    "data_dir = path.relpath(path.join(__DIR__, \"..\", \"_data\"))"
   ]
  },
  {
   "cell_type": "code",
   "execution_count": 2,
   "metadata": {
    "tags": [
     "parameters"
    ]
   },
   "outputs": [],
   "source": [
    "# Settings\n",
    "_colab_install = True\n",
    "_pm_log_sections = False\n",
    "_testing = True\n",
    "\n",
    "# Parameters\n",
    "dataset = path.join(data_dir, \"wiki\", \"20220301.en.1gb\")\n",
    "text_col = \"text\"\n",
    "\n",
    "base_model = \"bert-base-cased\"\n",
    "max_length = 128\n",
    "vocab_size = 20_000\n",
    "\n",
    "tokenize_params = dict(batched=True, num_proc=4)\n",
    "tokenizer_dir = path.join(data_dir, \"pretrain\", \"tokenizer\")\n",
    "\n",
    "mlm_probability = 0.15\n",
    "bert_config = dict()\n",
    "training_args = dict(\n",
    "    optim = \"adamw_torch\",\n",
    "    num_train_epochs = 3,\n",
    "    per_device_train_batch_size = 64,\n",
    "    eval_accumulation_steps = 10,\n",
    "    evaluation_strategy = \"steps\",\n",
    "    logging_steps = 1000,\n",
    "    save_steps = 1000,\n",
    "    save_total_limit = 5,\n",
    ")\n",
    "model_dir = path.join(data_dir, \"pretrain\", \"model\")"
   ]
  },
  {
   "cell_type": "code",
   "execution_count": 3,
   "metadata": {},
   "outputs": [],
   "source": [
    "if _testing:\n",
    "    dataset = path.join(data_dir, \"wiki\", \"20220301.en.test\")\n",
    "\n",
    "    training_args.update(dict(\n",
    "        max_steps = 3,\n",
    "        logging_steps = 1,\n",
    "    ))"
   ]
  },
  {
   "cell_type": "markdown",
   "metadata": {},
   "source": [
    "## Process settings / parameters"
   ]
  },
  {
   "cell_type": "code",
   "execution_count": 4,
   "metadata": {},
   "outputs": [
    {
     "name": "stdout",
     "output_type": "stream",
     "text": [
      "TESTING Parameters:\n",
      "OrderedDict([ ('dataset', '../_data/wiki/20220301.en.test'),\n",
      "              ('text_col', 'text'),\n",
      "              ('base_model', 'bert-base-cased'),\n",
      "              ('max_length', 128),\n",
      "              ('vocab_size', 20000),\n",
      "              ('tokenize_params', {'batched': True, 'num_proc': 4}),\n",
      "              ('tokenizer_dir', '../_data/pretrain/tokenizer'),\n",
      "              ('mlm_probability', 0.15),\n",
      "              ('bert_config', {}),\n",
      "              ( 'training_args',\n",
      "                { 'eval_accumulation_steps': 10,\n",
      "                  'evaluation_strategy': 'steps',\n",
      "                  'logging_steps': 1,\n",
      "                  'max_steps': 3,\n",
      "                  'num_train_epochs': 3,\n",
      "                  'optim': 'adamw_torch',\n",
      "                  'per_device_train_batch_size': 64,\n",
      "                  'save_steps': 500}),\n",
      "              ('model_dir', '../_data/pretrain/model')])\n"
     ]
    }
   ],
   "source": [
    "from pprint import pprint\n",
    "from collections import OrderedDict\n",
    "\n",
    "if _colab_install:\n",
    "    try:\n",
    "        import google.colab\n",
    "        \n",
    "        colab_install_script = path.join(__DIR__, \"..\", \"colab_install.sh\")\n",
    "\n",
    "        if not path.isfile(colab_install_script):\n",
    "            script_url = \"https://raw.githubusercontent.com/yenson-lau/pii-remediation/papermill/colab_install.sh\"\n",
    "            !wget $script_url -O $colab_install_script\n",
    "\n",
    "        !bash $colab_install_script\n",
    "\n",
    "    except ModuleNotFoundError:\n",
    "        pass\n",
    "\n",
    "if _pm_log_sections:\n",
    "    def pm_log_section(message):\n",
    "        print(f\"\\n[===== {message} =====]\\n\")\n",
    "else:\n",
    "    def pm_log_section(message):\n",
    "        return\n",
    "\n",
    "if _testing:\n",
    "    pm_log_section(\"Running on testing mode\")\n",
    "\n",
    "config = OrderedDict(\n",
    "    dataset = dataset,\n",
    "    text_col = text_col,\n",
    "\n",
    "    base_model = base_model,\n",
    "    max_length = max_length,\n",
    "    vocab_size = vocab_size,\n",
    "\n",
    "    tokenize_params = tokenize_params,\n",
    "    tokenizer_dir = tokenizer_dir,\n",
    "\n",
    "    mlm_probability = mlm_probability,\n",
    "    bert_config = bert_config,\n",
    "    training_args = training_args,\n",
    "    model_dir = model_dir,\n",
    ")\n",
    "\n",
    "print(f\"{'TESTING' if _testing else ''} Parameters:\")\n",
    "pprint(config, indent=2)"
   ]
  },
  {
   "cell_type": "markdown",
   "metadata": {},
   "source": [
    "# Load dataset"
   ]
  },
  {
   "cell_type": "code",
   "execution_count": 5,
   "metadata": {},
   "outputs": [
    {
     "name": "stderr",
     "output_type": "stream",
     "text": [
      "Using custom data configuration default-e5574e295c9a56a3\n",
      "Reusing dataset json (/Users/yenson/.cache/huggingface/datasets/json/default-e5574e295c9a56a3/0.0.0/a3e658c4731e59120d44081ac10bf85dc7e1388126b92338344ce9661907f253)\n"
     ]
    },
    {
     "data": {
      "application/vnd.jupyter.widget-view+json": {
       "model_id": "08f6101b34fe484cbbb98145640f5ca8",
       "version_major": 2,
       "version_minor": 0
      },
      "text/plain": [
       "  0%|          | 0/1 [00:00<?, ?it/s]"
      ]
     },
     "metadata": {},
     "output_type": "display_data"
    },
    {
     "name": "stderr",
     "output_type": "stream",
     "text": [
      "Using custom data configuration default-e7bfbf373754ac09\n",
      "Reusing dataset json (/Users/yenson/.cache/huggingface/datasets/json/default-e7bfbf373754ac09/0.0.0/a3e658c4731e59120d44081ac10bf85dc7e1388126b92338344ce9661907f253)\n"
     ]
    },
    {
     "data": {
      "application/vnd.jupyter.widget-view+json": {
       "model_id": "4c682d2c95ea4ddaaf963ee2dafed6f1",
       "version_major": 2,
       "version_minor": 0
      },
      "text/plain": [
       "  0%|          | 0/1 [00:00<?, ?it/s]"
      ]
     },
     "metadata": {},
     "output_type": "display_data"
    }
   ],
   "source": [
    "from datasets import Dataset, load_dataset\n",
    "\n",
    "pm_log_section(\"Loading dataset\")\n",
    "\n",
    "ds_dir = dataset\n",
    "dataset = dict()\n",
    "for split in [\"train\", \"val\"]:\n",
    "    data_file = path.join(ds_dir, f\"{split}_data.json\")\n",
    "    if not path.isfile(data_file):  data_file += \".gz\"\n",
    "    dataset[split] = load_dataset(\"json\", data_files=data_file, field=\"data\")[\"train\"]\n",
    "\n",
    "    if (split != \"train\") and (len(dataset[split]) > max_eval_samples):\n",
    "        dataset[split] = dataset[split].select(range(max_eval_samples))"
   ]
  },
  {
   "cell_type": "markdown",
   "metadata": {},
   "source": [
    "# Tokenization"
   ]
  },
  {
   "cell_type": "code",
   "execution_count": 6,
   "metadata": {},
   "outputs": [],
   "source": [
    "from transformers import BertTokenizerFast\n",
    "\n",
    "pm_log_section(\"Tokenizing\")"
   ]
  },
  {
   "cell_type": "code",
   "execution_count": 7,
   "metadata": {},
   "outputs": [
    {
     "name": "stdout",
     "output_type": "stream",
     "text": [
      "\n",
      "\n",
      "\n"
     ]
    }
   ],
   "source": [
    "tokenizer = (BertTokenizerFast\n",
    "                .from_pretrained(base_model)\n",
    "                .train_new_from_iterator(dataset[\"train\"][text_col], vocab_size))\n",
    "tokenizer.model_max_length = max_length\n",
    "\n",
    "tokenizer.save_pretrained(tokenizer_dir);"
   ]
  },
  {
   "cell_type": "code",
   "execution_count": 8,
   "metadata": {},
   "outputs": [
    {
     "name": "stdout",
     "output_type": "stream",
     "text": [
      "       "
     ]
    },
    {
     "data": {
      "application/vnd.jupyter.widget-view+json": {
       "model_id": "67be5d3dcec04da6b58b1d7039b1bf4e",
       "version_major": 2,
       "version_minor": 0
      },
      "text/plain": [
       "#0:   0%|          | 0/3 [00:00<?, ?ba/s]"
      ]
     },
     "metadata": {},
     "output_type": "display_data"
    },
    {
     "data": {
      "application/vnd.jupyter.widget-view+json": {
       "model_id": "f2c256c130874c70abb9bcd310a590d3",
       "version_major": 2,
       "version_minor": 0
      },
      "text/plain": [
       "#1:   0%|          | 0/3 [00:00<?, ?ba/s]"
      ]
     },
     "metadata": {},
     "output_type": "display_data"
    },
    {
     "name": "stdout",
     "output_type": "stream",
     "text": [
      " "
     ]
    },
    {
     "data": {
      "application/vnd.jupyter.widget-view+json": {
       "model_id": "8c9b2b54279248a0b4da58d270589107",
       "version_major": 2,
       "version_minor": 0
      },
      "text/plain": [
       "#2:   0%|          | 0/3 [00:00<?, ?ba/s]"
      ]
     },
     "metadata": {},
     "output_type": "display_data"
    },
    {
     "data": {
      "application/vnd.jupyter.widget-view+json": {
       "model_id": "c7b42d1df0d84f74b3fe5854aedb00bd",
       "version_major": 2,
       "version_minor": 0
      },
      "text/plain": [
       "#3:   0%|          | 0/3 [00:00<?, ?ba/s]"
      ]
     },
     "metadata": {},
     "output_type": "display_data"
    },
    {
     "name": "stdout",
     "output_type": "stream",
     "text": [
      "       "
     ]
    },
    {
     "data": {
      "application/vnd.jupyter.widget-view+json": {
       "model_id": "fc42e58feb474e1a82dc8da296055ab3",
       "version_major": 2,
       "version_minor": 0
      },
      "text/plain": [
       "#0:   0%|          | 0/1 [00:00<?, ?ba/s]"
      ]
     },
     "metadata": {},
     "output_type": "display_data"
    },
    {
     "data": {
      "application/vnd.jupyter.widget-view+json": {
       "model_id": "c0536819ff20490fb1c37e6f196c3761",
       "version_major": 2,
       "version_minor": 0
      },
      "text/plain": [
       "#1:   0%|          | 0/1 [00:00<?, ?ba/s]"
      ]
     },
     "metadata": {},
     "output_type": "display_data"
    },
    {
     "name": "stdout",
     "output_type": "stream",
     "text": [
      " "
     ]
    },
    {
     "data": {
      "application/vnd.jupyter.widget-view+json": {
       "model_id": "150e7ff0e3f44556a3d283704ccdb2c3",
       "version_major": 2,
       "version_minor": 0
      },
      "text/plain": [
       "#2:   0%|          | 0/1 [00:00<?, ?ba/s]"
      ]
     },
     "metadata": {},
     "output_type": "display_data"
    },
    {
     "data": {
      "application/vnd.jupyter.widget-view+json": {
       "model_id": "5ce39584a6914bbc951b0949cde4f0d6",
       "version_major": 2,
       "version_minor": 0
      },
      "text/plain": [
       "#3:   0%|          | 0/1 [00:00<?, ?ba/s]"
      ]
     },
     "metadata": {},
     "output_type": "display_data"
    }
   ],
   "source": [
    "tokenize_function = lambda ex: tokenizer(ex[text_col], truncation=True)\n",
    "\n",
    "tokenized_dataset = {\n",
    "    k: v.map(tokenize_function, remove_columns = list(v.features), **tokenize_params)\n",
    "    for k, v in dataset.items()\n",
    "}"
   ]
  },
  {
   "cell_type": "markdown",
   "metadata": {},
   "source": [
    "# Train masked language model"
   ]
  },
  {
   "cell_type": "code",
   "execution_count": 9,
   "metadata": {},
   "outputs": [],
   "source": [
    "import numpy as np\n",
    "from transformers import (BertConfig,\n",
    "                          BertForMaskedLM,\n",
    "                          DataCollatorForLanguageModeling,\n",
    "                          Trainer,\n",
    "                          TrainingArguments)\n",
    "\n",
    "pm_log_section(\"Training MLM\")\n",
    "\n",
    "data_collator = DataCollatorForLanguageModeling(tokenizer = tokenizer,\n",
    "                                                mlm_probability = mlm_probability)\n",
    "\n",
    "bert_config = BertConfig(vocab_size = tokenizer.vocab_size, **bert_config)\n",
    "model = BertForMaskedLM(config = bert_config)\n",
    "\n",
    "training_args = TrainingArguments(output_dir = model_dir,\n",
    "                                  overwrite_output_dir = True,\n",
    "                                  **training_args)\n",
    "\n",
    "def compute_metrics(eval_preds):\n",
    "    idxs0, idxs1 = np.where(eval_preds.label_ids!=-100)\n",
    "\n",
    "    preds = np.argmax(eval_preds.predictions[idxs0, idxs1, :], axis=-1)\n",
    "    labels = eval_preds.label_ids[idxs0, idxs1]\n",
    "\n",
    "    acc = (preds==labels).sum()/len(preds)\n",
    "\n",
    "    return {\"accuracy\": acc}"
   ]
  },
  {
   "cell_type": "code",
   "execution_count": 10,
   "metadata": {},
   "outputs": [
    {
     "name": "stderr",
     "output_type": "stream",
     "text": [
      "max_steps is given, it will override any value given in num_train_epochs\n",
      "***** Running training *****\n",
      "  Num examples = 8788\n",
      "  Num Epochs = 1\n",
      "  Instantaneous batch size per device = 64\n",
      "  Total train batch size (w. parallel, distributed & accumulation) = 64\n",
      "  Gradient Accumulation steps = 1\n",
      "  Total optimization steps = 3\n"
     ]
    },
    {
     "data": {
      "application/vnd.jupyter.widget-view+json": {
       "model_id": "f2d983582589449192973396393d111a",
       "version_major": 2,
       "version_minor": 0
      },
      "text/plain": [
       "  0%|          | 0/3 [00:00<?, ?it/s]"
      ]
     },
     "metadata": {},
     "output_type": "display_data"
    },
    {
     "name": "stderr",
     "output_type": "stream",
     "text": [
      "You're using a BertTokenizerFast tokenizer. Please note that with a fast tokenizer, using the `__call__` method is faster than using a method to encode the text followed by a call to the `pad` method to get a padded encoding.\n",
      "***** Running Evaluation *****\n",
      "  Num examples = 998\n",
      "  Batch size = 8\n"
     ]
    },
    {
     "name": "stdout",
     "output_type": "stream",
     "text": [
      "{'loss': 10.0682, 'learning_rate': 3.3333333333333335e-05, 'epoch': 0.01}\n"
     ]
    },
    {
     "data": {
      "application/vnd.jupyter.widget-view+json": {
       "model_id": "58f939c1d81f4df3ad11722bf0c40ad3",
       "version_major": 2,
       "version_minor": 0
      },
      "text/plain": [
       "  0%|          | 0/125 [00:00<?, ?it/s]"
      ]
     },
     "metadata": {},
     "output_type": "display_data"
    },
    {
     "name": "stdout",
     "output_type": "stream",
     "text": [
      "{'eval_loss': 9.594893455505371, 'eval_accuracy': 0.03173893607510058, 'eval_runtime': 55.0414, 'eval_samples_per_second': 18.132, 'eval_steps_per_second': 2.271, 'epoch': 0.01}\n"
     ]
    },
    {
     "name": "stderr",
     "output_type": "stream",
     "text": [
      "***** Running Evaluation *****\n",
      "  Num examples = 998\n",
      "  Batch size = 8\n"
     ]
    },
    {
     "name": "stdout",
     "output_type": "stream",
     "text": [
      "{'loss': 9.6969, 'learning_rate': 1.6666666666666667e-05, 'epoch': 0.01}\n"
     ]
    },
    {
     "data": {
      "application/vnd.jupyter.widget-view+json": {
       "model_id": "8e16767f48af456195fbbfd02951e5d5",
       "version_major": 2,
       "version_minor": 0
      },
      "text/plain": [
       "  0%|          | 0/125 [00:00<?, ?it/s]"
      ]
     },
     "metadata": {},
     "output_type": "display_data"
    },
    {
     "name": "stdout",
     "output_type": "stream",
     "text": [
      "{'eval_loss': 9.469326972961426, 'eval_accuracy': 0.03525932666060055, 'eval_runtime': 55.1123, 'eval_samples_per_second': 18.108, 'eval_steps_per_second': 2.268, 'epoch': 0.01}\n"
     ]
    },
    {
     "name": "stderr",
     "output_type": "stream",
     "text": [
      "***** Running Evaluation *****\n",
      "  Num examples = 998\n",
      "  Batch size = 8\n"
     ]
    },
    {
     "name": "stdout",
     "output_type": "stream",
     "text": [
      "{'loss': 9.5092, 'learning_rate': 0.0, 'epoch': 0.02}\n"
     ]
    },
    {
     "data": {
      "application/vnd.jupyter.widget-view+json": {
       "model_id": "eab02ac9cad64551ae010d5d72f36b70",
       "version_major": 2,
       "version_minor": 0
      },
      "text/plain": [
       "  0%|          | 0/125 [00:00<?, ?it/s]"
      ]
     },
     "metadata": {},
     "output_type": "display_data"
    },
    {
     "name": "stderr",
     "output_type": "stream",
     "text": [
      "\n",
      "\n",
      "Training completed. Do not forget to share your model on huggingface.co/models =)\n",
      "\n",
      "\n",
      "Saving model checkpoint to ../_data/pretrain/model\n",
      "Configuration saved in ../_data/pretrain/model/config.json\n"
     ]
    },
    {
     "name": "stdout",
     "output_type": "stream",
     "text": [
      "{'eval_loss': 9.455045700073242, 'eval_accuracy': 0.03145657624800547, 'eval_runtime': 53.2379, 'eval_samples_per_second': 18.746, 'eval_steps_per_second': 2.348, 'epoch': 0.02}\n",
      "{'train_runtime': 179.0106, 'train_samples_per_second': 1.073, 'train_steps_per_second': 0.017, 'train_loss': 9.758082389831543, 'epoch': 0.02}\n"
     ]
    },
    {
     "name": "stderr",
     "output_type": "stream",
     "text": [
      "Model weights saved in ../_data/pretrain/model/pytorch_model.bin\n"
     ]
    }
   ],
   "source": [
    "trainer = Trainer(model = model,\n",
    "                  args = training_args,\n",
    "                  data_collator = data_collator,\n",
    "                  compute_metrics=compute_metrics,\n",
    "                  train_dataset = tokenized_dataset[\"train\"],\n",
    "                  eval_dataset=tokenized_dataset[\"val\"])\n",
    "\n",
    "trainer.train()\n",
    "trainer.save_model(model_dir)"
   ]
  },
  {
   "cell_type": "code",
   "execution_count": 11,
   "metadata": {},
   "outputs": [],
   "source": [
    "pm_log_section(\"Finished pretraining!\")"
   ]
  }
 ],
 "metadata": {
  "kernelspec": {
   "display_name": "Python 3.10.6 ('pii')",
   "language": "python",
   "name": "python3"
  },
  "language_info": {
   "codemirror_mode": {
    "name": "ipython",
    "version": 3
   },
   "file_extension": ".py",
   "mimetype": "text/x-python",
   "name": "python",
   "nbconvert_exporter": "python",
   "pygments_lexer": "ipython3",
   "version": "3.10.6"
  },
  "orig_nbformat": 4,
  "vscode": {
   "interpreter": {
    "hash": "9c6a09ae61f2c394f67ff51dc946b62f1df5f97b79879dc2b09d91cc9b837b3e"
   }
  }
 },
 "nbformat": 4,
 "nbformat_minor": 2
}
